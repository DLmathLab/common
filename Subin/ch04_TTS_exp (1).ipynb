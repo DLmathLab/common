{
  "cells": [
    {
      "cell_type": "markdown",
      "source": [
        "# TTS (text to speech)\n",
        "\n",
        "텍스트를 음성으로 변환"
      ],
      "metadata": {
        "id": "-0Vxsjqk0anD"
      },
      "id": "-0Vxsjqk0anD"
    },
    {
      "cell_type": "code",
      "execution_count": null,
      "id": "97bf02d5-9dce-4ebf-ba29-1416cf07d7a9",
      "metadata": {
        "id": "97bf02d5-9dce-4ebf-ba29-1416cf07d7a9"
      },
      "outputs": [],
      "source": [
        "from openai\timport OpenAI\n",
        "\n",
        "# API 키 입력\n",
        "client = OpenAI(api_key=\"여기에 API key를 넣어주세요\")\n",
        "# 생성할 파일명\n",
        "speech_file_path = \"speech.mp3\"\n",
        "\n",
        "with client.audio.speech.with_streaming_response.create(\n",
        "    model=\"tts-1\",\n",
        "    voice=\"alloy\",\n",
        "    input=\"\"\"오늘은 사람들이 좋아하는 것을 만들기에 좋은 날입니다!\"\"\",\n",
        ") as response:\n",
        "    response.stream_to_file(\"speech.mp3\")"
      ]
    },
    {
      "cell_type": "markdown",
      "source": [
        "## with ~ 이 부분\n",
        "\n",
        "TTS(Text to Speech) 기능을 호출하는 부분\n",
        "\n",
        "- model=\"tts-1\": 사용할 TTS 모델이라고 생각하면 됨. OpenAI의 tts-1 모델을 사용.\n",
        "\n",
        "- voice=\"alloy\": 사용할 음성의 스타일. alloy 외에도 echo, fable, onyx, nova, shimmer 등이 있음.\n",
        "\n",
        "- input=...: 음성으로 변환할 텍스트.\n",
        "\n",
        "- with_streaming_response.create(...)는 음성을 스트리밍 방식으로 받아오기 위한 함수.\n",
        "\n",
        "- response는 서버에서 받은 음성 데이터 스트림.\n",
        "\n",
        "\n",
        "### 스트리밍 방식?\n",
        "일반 방식 vs 스트리밍 방식\n",
        "\n",
        "일반 방식\n",
        "- 요청을 보내면 서버가 모든 음성 데이터를 완전히 만든 다음에 한꺼번에 응답.\n",
        "\n",
        "- 음성 생성이 다 끝날 때까지 기다려야 됨.\n",
        "\n",
        "- 속도가 느릴 수도 있고, 중간 상태에서는 아무 것도 못 함.\n",
        "\n",
        "스트리밍 방식\n",
        "\n",
        "- 음성 데이터를 조금씩 생성하면서 바로바로 보내줌.\n",
        "\n",
        "- 더 빠르게 재생하거나 저장 시작할 수 있음.\n",
        "\n"
      ],
      "metadata": {
        "id": "gieOI9Pf0_Yi"
      },
      "id": "gieOI9Pf0_Yi"
    }
  ],
  "metadata": {
    "kernelspec": {
      "display_name": "Python 3 (ipykernel)",
      "language": "python",
      "name": "python3"
    },
    "language_info": {
      "codemirror_mode": {
        "name": "ipython",
        "version": 3
      },
      "file_extension": ".py",
      "mimetype": "text/x-python",
      "name": "python",
      "nbconvert_exporter": "python",
      "pygments_lexer": "ipython3",
      "version": "3.11.8"
    },
    "colab": {
      "provenance": []
    }
  },
  "nbformat": 4,
  "nbformat_minor": 5
}