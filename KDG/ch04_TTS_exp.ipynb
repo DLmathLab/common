{
  "cells": [
    {
      "cell_type": "code",
      "execution_count": 1,
      "id": "97bf02d5-9dce-4ebf-ba29-1416cf07d7a9",
      "metadata": {
        "id": "97bf02d5-9dce-4ebf-ba29-1416cf07d7a9"
      },
      "outputs": [],
      "source": [
        "from openai\timport OpenAI\n",
        "\n",
        "# API 키 입력\n",
        "client = OpenAI(api_key=\"==\")\n",
        "# 생성할 파일명\n",
        "speech_file_path = \"speech.mp3\"\n",
        "\n",
        "with client.audio.speech.with_streaming_response.create(\n",
        "    model=\"tts-1\",\n",
        "    voice=\"alloy\",\n",
        "    input=\"\"\"오늘은 사람들이 좋아하는 것을 만들기에 좋은 날입니다!\"\"\",\n",
        ") as response:\n",
        "    response.stream_to_file(\"speech.mp3\")"
      ]
    },
    {
      "cell_type": "code",
      "execution_count": null,
      "id": "84f0e64b-6ee4-477a-9e56-76d953287f57",
      "metadata": {
        "id": "84f0e64b-6ee4-477a-9e56-76d953287f57"
      },
      "outputs": [],
      "source": []
    }
  ],
  "metadata": {
    "kernelspec": {
      "display_name": "Python 3 (ipykernel)",
      "language": "python",
      "name": "python3"
    },
    "language_info": {
      "codemirror_mode": {
        "name": "ipython",
        "version": 3
      },
      "file_extension": ".py",
      "mimetype": "text/x-python",
      "name": "python",
      "nbconvert_exporter": "python",
      "pygments_lexer": "ipython3",
      "version": "3.11.8"
    },
    "colab": {
      "provenance": []
    }
  },
  "nbformat": 4,
  "nbformat_minor": 5
}