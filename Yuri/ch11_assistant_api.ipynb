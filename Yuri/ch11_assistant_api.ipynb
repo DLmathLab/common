{
 "cells": [
  {
   "cell_type": "markdown",
   "id": "a9e2cd93-397c-49ce-b409-1f79648d1734",
   "metadata": {},
   "source": [
    "## Create Assistant\n",
    "* instructions: 어시스턴트와 모델이 어떻게 행동하거나 응답해야 하는지 알려줍니다.\n",
    "* model: 미세 조정된 모델을 포함하여 모든 GPT-3.5 또는 GPT-4 모델을 지정할 수 있습니다. 검색 도구에는 gpt-3.5-turbo-1106 및 gpt-4-1106-preview 모델이 필요합니다.\n",
    "* tools: API는 OpenAI에서 빌드 및 호스팅하는 코드 인터프리터와 웹 검색을 지원합니다. 또한 함수 호출 기능과 유사한 동작으로 사용자 정의 함수 서명을 정의할 수 있습니다"
   ]
  },
  {
   "cell_type": "code",
   "execution_count": 3,
   "id": "01f65d06-cc37-49b7-886b-b6fcb96da63f",
   "metadata": {},
   "outputs": [],
   "source": [
    "# 패키지 불러오기\n",
    "import openai\n",
    "# API 키 지정하여 클라이언트 선언하기\n",
    "client = openai.OpenAI(api_key = \"여기에 api key를 넣어주세요\")"
   ]
  },
  {
   "cell_type": "markdown",
   "id": "bbc13b84-f905-4c65-8894-190516f27505",
   "metadata": {},
   "source": [
    "## 1. 파일 업로드 및 벡터 저장소 추가하기"
   ]
  },
  {
   "cell_type": "code",
   "execution_count": 6,
   "id": "60443be3-b7e9-4bf8-ab9c-8565fed82209",
   "metadata": {},
   "outputs": [],
   "source": [
    "# 벡터 저장소 생성하기\n",
    "vector_store = client.beta.vector_stores.create(name=\"축구 규칙 파일\")"
   ]
  },
  {
   "cell_type": "code",
   "execution_count": 7,
   "id": "d82857cc-2f7a-4793-9152-294a32fc9fd5",
   "metadata": {},
   "outputs": [
    {
     "name": "stdout",
     "output_type": "stream",
     "text": [
      "completed\n",
      "FileCounts(cancelled=0, completed=1, failed=0, in_progress=0, total=1)\n"
     ]
    }
   ],
   "source": [
    "# 파일을 벡터 저장소에 올리기\n",
    "file_streams = open(\"축구규칙정리.pdf\", \"rb\")\n",
    "\n",
    "file_batch = client.beta.vector_stores.file_batches.upload_and_poll(\n",
    "  vector_store_id=vector_store.id, files=[file_streams]\n",
    ")\n",
    "print(file_batch.status)\n",
    "print(file_batch.file_counts)"
   ]
  },
  {
   "cell_type": "code",
   "execution_count": 8,
   "id": "2cd32006-3b3d-4f27-a5f3-e69d91391924",
   "metadata": {},
   "outputs": [],
   "source": [
    "instruction = '''\n",
    "[목적]\n",
    "이 GPT는 축구 규칙을 상세히 설명해주는 챗봇입니다.\n",
    "\n",
    "[규칙]\n",
    "1. 사용자가 축구 규칙에 대해 질문하면 업로드된 파일에서 해당 내용을 찾아 자세히 답변합니다.\n",
    "2. 파일안에서 마땅한 답을 찾을 수 없거나 축구 규칙에 관한 질문이 아니면 \"축구 규칙에 관한 질문만 부탁해요^^\" 라고 답해주세요.\n",
    "3. 답변의 형태는 아래 예시와 같이 해주세요\n",
    "예시)\n",
    "-  질문 : 질문 내용\n",
    "-  답변 : 답변내용 \n",
    "4. 모든 질문에 한국어로 답변해주세요.\n",
    "'''"
   ]
  },
  {
   "cell_type": "code",
   "execution_count": 9,
   "id": "f5523e89-615b-4405-9268-1795c50d2f5e",
   "metadata": {},
   "outputs": [
    {
     "name": "stdout",
     "output_type": "stream",
     "text": [
      "asst_gZxQgd3wWma7S0Kmb5nJhRah\n"
     ]
    }
   ],
   "source": [
    "assistant = client.beta.assistants.create(\n",
    "  name = \"축구 규칙 설명 챗봇\",\n",
    "  instructions=instruction,\n",
    "  model=\"gpt-3.5-turbo-1106\",\n",
    "  tools=[{\"type\": \"file_search\"}],\n",
    "  tool_resources={\"file_search\": {\"vector_store_ids\": [vector_store.id]}}\n",
    ")\n",
    "\n",
    "print(assistant.id)"
   ]
  },
  {
   "cell_type": "code",
   "execution_count": 10,
   "id": "caf5cdd8-0fe4-47fa-ab50-4c5139c6cad0",
   "metadata": {},
   "outputs": [
    {
     "name": "stdout",
     "output_type": "stream",
     "text": [
      "Assistant(id='asst_gZxQgd3wWma7S0Kmb5nJhRah', created_at=1740708095, description=None, instructions='\\n[목적]\\n이 GPT는 축구 규칙을 상세히 설명해주는 챗봇입니다.\\n\\n[규칙]\\n1. 사용자가 축구 규칙에 대해 질문하면 업로드된 파일에서 해당 내용을 찾아 자세히 답변합니다.\\n2. 파일안에서 마땅한 답을 찾을 수 없거나 축구 규칙에 관한 질문이 아니면 \"축구 규칙에 관한 질문만 부탁해요^^\" 라고 답해주세요.\\n3. 답변의 형태는 아래 예시와 같이 해주세요\\n예시)\\n-  질문 : 질문 내용\\n-  답변 : 답변내용 \\n4. 모든 질문에 한국어로 답변해주세요.\\n', metadata={}, model='gpt-3.5-turbo-1106', name='축구 규칙 설명 챗봇', object='assistant', tools=[FileSearchTool(type='file_search', file_search=FileSearch(max_num_results=None, ranking_options=FileSearchRankingOptions(score_threshold=0.0, ranker='default_2024_08_21')))], response_format='auto', temperature=1.0, tool_resources=ToolResources(code_interpreter=None, file_search=ToolResourcesFileSearch(vector_store_ids=['vs_67c118e00cf08191b68c41bf448dfee7'])), top_p=1.0, reasoning_effort=None)\n"
     ]
    }
   ],
   "source": [
    "print(assistant)"
   ]
  },
  {
   "cell_type": "code",
   "execution_count": null,
   "id": "bee91734-9e02-4e0d-a66e-eab95e229692",
   "metadata": {},
   "outputs": [],
   "source": []
  },
  {
   "cell_type": "markdown",
   "id": "5f9178fe-4875-442a-a323-878da479f5a1",
   "metadata": {},
   "source": [
    "## Tread"
   ]
  },
  {
   "cell_type": "markdown",
   "id": "0bfd2f4a-2d8e-4c04-9cac-364df6a55d12",
   "metadata": {},
   "source": [
    "### Tread 생성하기"
   ]
  },
  {
   "cell_type": "code",
   "execution_count": 13,
   "id": "5a4d70ab-444a-47fa-8e07-37f16e624219",
   "metadata": {},
   "outputs": [
    {
     "name": "stdout",
     "output_type": "stream",
     "text": [
      "Thread(id='thread_YHAEk9Sypyg5oaTYgPAim0BQ', created_at=1740708639, metadata={}, object='thread', tool_resources=ToolResources(code_interpreter=None, file_search=None))\n"
     ]
    }
   ],
   "source": [
    "thread = client.beta.threads.create()\n",
    "print(thread)"
   ]
  },
  {
   "cell_type": "markdown",
   "id": "3ca4bc03-1bb6-4162-83cc-43020e92e8e4",
   "metadata": {},
   "source": [
    "### Tread에 메세지 넣기"
   ]
  },
  {
   "cell_type": "code",
   "execution_count": 14,
   "id": "509f6913-d1e3-4105-80cd-721e52254456",
   "metadata": {},
   "outputs": [
    {
     "name": "stdout",
     "output_type": "stream",
     "text": [
      "Message(id='msg_PWUcwke5hZFaIkPAVVdHFG2u', assistant_id=None, attachments=[], completed_at=None, content=[TextContentBlock(text=Text(annotations=[], value='축구장의 크기는?'), type='text')], created_at=1740708713, incomplete_at=None, incomplete_details=None, metadata={}, object='thread.message', role='user', run_id=None, status=None, thread_id='thread_YHAEk9Sypyg5oaTYgPAim0BQ')\n"
     ]
    }
   ],
   "source": [
    "message = client.beta.threads.messages.create(\n",
    "    thread_id=thread.id,\n",
    "    role=\"user\",\n",
    "    content=\"축구장의 크기는?\"\n",
    ")\n",
    "print(message)"
   ]
  },
  {
   "cell_type": "markdown",
   "id": "7c0089bf-1a3c-4c1f-8d13-f8305e7787a0",
   "metadata": {},
   "source": [
    "## Assistant run"
   ]
  },
  {
   "cell_type": "code",
   "execution_count": 15,
   "id": "0a713caf-dd74-4173-bf2d-300a5363917b",
   "metadata": {},
   "outputs": [],
   "source": [
    "run = client.beta.threads.runs.create(\n",
    "  thread_id=thread.id,\n",
    "  assistant_id=assistant.id)"
   ]
  },
  {
   "cell_type": "code",
   "execution_count": 16,
   "id": "1e648428-2b82-4ebf-ad3e-27192588db4b",
   "metadata": {},
   "outputs": [
    {
     "name": "stdout",
     "output_type": "stream",
     "text": [
      "in_progress\n",
      "in_progress\n",
      "completed\n"
     ]
    }
   ],
   "source": [
    "import time\n",
    "\n",
    "while run.status not in [\"completed\", \"failed\"]:\n",
    "  run = client.beta.threads.runs.retrieve(\n",
    "    thread_id= thread.id,\n",
    "    run_id= run.id\n",
    "  )\n",
    "  print(run.status)\n",
    "  time.sleep(5)"
   ]
  },
  {
   "cell_type": "code",
   "execution_count": null,
   "id": "1c134c16-eae3-4c0e-85e8-4c8673bd4005",
   "metadata": {},
   "outputs": [],
   "source": []
  },
  {
   "cell_type": "markdown",
   "id": "afbc2579-3fa1-466e-9e19-cafcbe3df9fb",
   "metadata": {},
   "source": [
    "## After Run complete"
   ]
  },
  {
   "cell_type": "code",
   "execution_count": 17,
   "id": "1567d3e5-7060-402f-b717-d8466a059e5d",
   "metadata": {},
   "outputs": [],
   "source": [
    "messages = client.beta.threads.messages.list(\n",
    "  thread_id=thread.id\n",
    ")"
   ]
  },
  {
   "cell_type": "code",
   "execution_count": 18,
   "id": "511d0894-082c-4f47-8da5-ae6b258bfe5a",
   "metadata": {},
   "outputs": [
    {
     "name": "stdout",
     "output_type": "stream",
     "text": [
      "assistant: 축구장의 크기는 국제경기를 위한 기준과 대회 주최 측의 결정에 따라 다를 수 있습니다. 일반적으로 터치라인의 길이는 최소 100m(110 야드)에서 최대 110m(120 야드)이며, 골라인의 길이는 최소 64m(70 야드)에서 최대 75m(80 야드)입니다. 자세한 내용은 아래 링크를 참고해 주세요. \n",
      "- 축구규칙정리.pdf (경기규칙 1조)     \n",
      "=========\n",
      "user: 축구장의 크기는?\n",
      "=========\n"
     ]
    }
   ],
   "source": [
    "for each in messages:\n",
    "  print(each.role + \": \"+each.content[0].text.value)\n",
    "  print(\"=========\")"
   ]
  },
  {
   "cell_type": "markdown",
   "id": "1d2b01cb-6efa-49fa-9a27-4c17b3118282",
   "metadata": {},
   "source": [
    "## Add question"
   ]
  },
  {
   "cell_type": "code",
   "execution_count": 19,
   "id": "5359ed94-2a8b-4da4-9d7f-a4340c2114f1",
   "metadata": {},
   "outputs": [
    {
     "name": "stdout",
     "output_type": "stream",
     "text": [
      "user: 오프사이드 룰에 대해 설명해줘\n",
      "=========\n",
      "assistant: 축구장의 크기는 국제경기를 위한 기준과 대회 주최 측의 결정에 따라 다를 수 있습니다. 일반적으로 터치라인의 길이는 최소 100m(110 야드)에서 최대 110m(120 야드)이며, 골라인의 길이는 최소 64m(70 야드)에서 최대 75m(80 야드)입니다. 자세한 내용은 아래 링크를 참고해 주세요. \n",
      "- 축구규칙정리.pdf (경기규칙 1조)     \n",
      "=========\n",
      "user: 축구장의 크기는?\n",
      "=========\n"
     ]
    }
   ],
   "source": [
    "\n",
    "# 메세지 추가\n",
    "message = client.beta.threads.messages.create(\n",
    "    thread_id=thread.id,\n",
    "    role=\"user\",\n",
    "    content=\"오프사이드 룰에 대해 설명해줘\"\n",
    ")\n",
    "\n",
    "# 메세지 리스트 가져오기\n",
    "messages = client.beta.threads.messages.list(\n",
    "  thread_id=thread.id\n",
    ")\n",
    "\n",
    "#메세지 프린트\n",
    "for each in messages:\n",
    "  print(each.role + \": \"+each.content[0].text.value)\n",
    "  print(\"=========\")"
   ]
  },
  {
   "cell_type": "code",
   "execution_count": 20,
   "id": "a3b17d79-2dc4-428e-8499-f05a4d677c9c",
   "metadata": {},
   "outputs": [
    {
     "name": "stdout",
     "output_type": "stream",
     "text": [
      "queued\n",
      "in_progress\n",
      "completed\n"
     ]
    }
   ],
   "source": [
    "run = client.beta.threads.runs.create(\n",
    "  thread_id=thread.id,\n",
    "  assistant_id=assistant.id,)\n",
    "\n",
    "while run.status not in [\"completed\", \"failed\"]:\n",
    "\n",
    "  run = client.beta.threads.runs.retrieve(\n",
    "    thread_id= thread.id,\n",
    "    run_id= run.id)\n",
    "\n",
    "  print(run.status)\n",
    "\n",
    "  time.sleep(5)"
   ]
  },
  {
   "cell_type": "code",
   "execution_count": 21,
   "id": "4cc526ea-24a7-4410-ae1e-71fa026eedd8",
   "metadata": {},
   "outputs": [
    {
     "name": "stdout",
     "output_type": "stream",
     "text": [
      "assistant: 오프사이드 규칙은 상대팀의 수비수보다 득점 선수가 더 가까이 있을 때 적용됩니다. 선수는 해당 위치에 있고, 볼이 넘어올 때 혹은 팀 동료가 플레이할 때 오프사이드 위치에 있어서 적극적으로 플레이에 관여할 때 반칙으로 간주됩니다. 그러나 오프사이드 위치에 있더라도 해당 선수가 플레이에 관여하지 않는다면 오프사이드 반칙으로 간주되지 않습니다. 자세한 내용은 \"축구규칙정리.pdf\" 문서의 제11조를 참고하시기 바랍니다. \n",
      "=========\n",
      "user: 오프사이드 룰에 대해 설명해줘\n",
      "=========\n",
      "assistant: 축구장의 크기는 국제경기를 위한 기준과 대회 주최 측의 결정에 따라 다를 수 있습니다. 일반적으로 터치라인의 길이는 최소 100m(110 야드)에서 최대 110m(120 야드)이며, 골라인의 길이는 최소 64m(70 야드)에서 최대 75m(80 야드)입니다. 자세한 내용은 아래 링크를 참고해 주세요. \n",
      "- 축구규칙정리.pdf (경기규칙 1조)     \n",
      "=========\n",
      "user: 축구장의 크기는?\n",
      "=========\n"
     ]
    }
   ],
   "source": [
    "# 메세지 리스트 가져오기\n",
    "messages = client.beta.threads.messages.list(\n",
    "  thread_id=thread.id\n",
    ")\n",
    "\n",
    "#메세지 프린트\n",
    "for each in messages:\n",
    "  print(each.role + \": \"+each.content[0].text.value)\n",
    "  print(\"=========\")"
   ]
  },
  {
   "cell_type": "markdown",
   "id": "223ef1f5-bb41-4967-a656-e50f320b053e",
   "metadata": {},
   "source": []
  },
  {
   "cell_type": "code",
   "execution_count": null,
   "id": "63abdb60-f4d9-4465-aa05-acfd0ece81cc",
   "metadata": {},
   "outputs": [],
   "source": []
  },
  {
   "cell_type": "markdown",
   "id": "5264b68c-1873-4922-ae47-35a25d9ac745",
   "metadata": {},
   "source": [
    "## Assistants 삭제"
   ]
  },
  {
   "cell_type": "code",
   "execution_count": 22,
   "id": "40f8c760-a04a-47c2-858f-2509ec1f0982",
   "metadata": {},
   "outputs": [
    {
     "name": "stdout",
     "output_type": "stream",
     "text": [
      "AssistantDeleted(id='asst_gZxQgd3wWma7S0Kmb5nJhRah', deleted=True, object='assistant.deleted')\n"
     ]
    }
   ],
   "source": [
    "response = client.beta.assistants.delete(assistant.id)\n",
    "print(response)"
   ]
  },
  {
   "cell_type": "markdown",
   "id": "aaf734b5-2901-437e-bed9-e3500832cce9",
   "metadata": {},
   "source": [
    "## File 삭제"
   ]
  },
  {
   "cell_type": "code",
   "execution_count": 23,
   "id": "3a2eae19-cb24-4a4d-913d-4d6c185d9132",
   "metadata": {},
   "outputs": [
    {
     "name": "stdout",
     "output_type": "stream",
     "text": [
      "SyncCursorPage[FileObject](data=[FileObject(id='file-GHvmG1aE8auFDXVpjf9NTn', bytes=22073717, created_at=1740708074, filename='축구규칙정리.pdf', object='file', purpose='assistants', status='processed', status_details=None, expires_at=None), FileObject(id='file-WxRxWSmDbzRrjGXNcyKbAy', bytes=22073717, created_at=1740707739, filename='축구규칙정리.pdf', object='file', purpose='assistants', status='processed', status_details=None, expires_at=None)], has_more=False, object='list', first_id='file-GHvmG1aE8auFDXVpjf9NTn', last_id='file-WxRxWSmDbzRrjGXNcyKbAy')\n"
     ]
    }
   ],
   "source": [
    "# 업로드한 파일 목록 가져오기\n",
    "file_list = client.files.list()\n",
    "print(file_list)"
   ]
  },
  {
   "cell_type": "code",
   "execution_count": 24,
   "id": "a51677fe-5a81-46b7-b2c5-480e17709493",
   "metadata": {},
   "outputs": [
    {
     "name": "stdout",
     "output_type": "stream",
     "text": [
      "file-GHvmG1aE8auFDXVpjf9NTn\n"
     ]
    }
   ],
   "source": [
    "# 특정 파일 ID 가져오기\n",
    "file_id = file_list.data[0].id\n",
    "print(file_id)"
   ]
  },
  {
   "cell_type": "code",
   "execution_count": 25,
   "id": "8360147a-557f-40cf-9667-c87790c3401b",
   "metadata": {},
   "outputs": [
    {
     "name": "stdout",
     "output_type": "stream",
     "text": [
      "FileDeleted(id='file-GHvmG1aE8auFDXVpjf9NTn', deleted=True, object='file')\n"
     ]
    }
   ],
   "source": [
    "# 업로드 파일 삭제\n",
    "response = client.files.delete(file_id)\n",
    "print(response)"
   ]
  },
  {
   "cell_type": "code",
   "execution_count": null,
   "id": "b5f9a4c4-8b14-4d68-ba09-af6bc0d5be9f",
   "metadata": {},
   "outputs": [],
   "source": []
  }
 ],
 "metadata": {
  "kernelspec": {
   "display_name": "Python 3 (ipykernel)",
   "language": "python",
   "name": "python3"
  },
  "language_info": {
   "codemirror_mode": {
    "name": "ipython",
    "version": 3
   },
   "file_extension": ".py",
   "mimetype": "text/x-python",
   "name": "python",
   "nbconvert_exporter": "python",
   "pygments_lexer": "ipython3",
   "version": "3.11.8"
  }
 },
 "nbformat": 4,
 "nbformat_minor": 5
}
