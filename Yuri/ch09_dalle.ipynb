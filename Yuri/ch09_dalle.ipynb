{
 "cells": [
  {
   "cell_type": "code",
   "execution_count": 1,
   "id": "5483a479-4b85-4099-98ab-906dead24a86",
   "metadata": {},
   "outputs": [],
   "source": [
    "import io\n",
    "from PIL import Image\n",
    "import base64\n",
    "\n",
    "# 이미지 프롬프트를 입력받으면 이미지를 생성하여 전달.\n",
    "def get_image_by_dalle(client, genre, img_prompt):    \n",
    "    response = client.images.generate(\n",
    "    model=\"dall-e-3\",\n",
    "    prompt='The name of this story is ' + genre + ' ' + img_prompt + ' The style is 3D computer-rendered children’s movie animation with vibrant colors and detailed textures.',\n",
    "    size=\"1024x1024\",\n",
    "    quality=\"standard\",\n",
    "    n=1,\n",
    "    response_format='b64_json'\n",
    "    )\n",
    "\n",
    "    image_data = base64.b64decode(response.data[0].b64_json)\n",
    "    image = Image.open(io.BytesIO(image_data))\n",
    "    return image"
   ]
  },
  {
   "cell_type": "code",
   "execution_count": null,
   "id": "f2b8fe15-30d2-485b-9594-ce7804b4c0d8",
   "metadata": {},
   "outputs": [],
   "source": []
  }
 ],
 "metadata": {
  "kernelspec": {
   "display_name": "Python 3 (ipykernel)",
   "language": "python",
   "name": "python3"
  },
  "language_info": {
   "codemirror_mode": {
    "name": "ipython",
    "version": 3
   },
   "file_extension": ".py",
   "mimetype": "text/x-python",
   "name": "python",
   "nbconvert_exporter": "python",
   "pygments_lexer": "ipython3",
   "version": "3.11.8"
  }
 },
 "nbformat": 4,
 "nbformat_minor": 5
}
