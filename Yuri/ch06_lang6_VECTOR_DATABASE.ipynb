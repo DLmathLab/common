{
 "cells": [
  {
   "cell_type": "code",
   "execution_count": 1,
   "metadata": {
    "colab": {
     "base_uri": "https://localhost:8080/"
    },
    "id": "9v3zXnVbkbCT",
    "outputId": "ff244a5f-ad56-446d-fbbf-6e80f26bec74"
   },
   "outputs": [
    {
     "name": "stdout",
     "output_type": "stream",
     "text": [
      "Requirement already satisfied: langchain in /opt/anaconda3/lib/python3.11/site-packages (0.3.18)\n",
      "Collecting chromadb\n",
      "  Downloading chromadb-0.6.3-py3-none-any.whl.metadata (6.8 kB)\n",
      "Collecting faiss-cpu\n",
      "  Downloading faiss_cpu-1.10.0-cp311-cp311-macosx_11_0_arm64.whl.metadata (4.4 kB)\n",
      "Requirement already satisfied: langchain-community in /opt/anaconda3/lib/python3.11/site-packages (0.3.17)\n",
      "Requirement already satisfied: pypdf in /opt/anaconda3/lib/python3.11/site-packages (5.3.0)\n",
      "Requirement already satisfied: openai in /opt/anaconda3/lib/python3.11/site-packages (1.63.0)\n",
      "Requirement already satisfied: tiktoken in /opt/anaconda3/lib/python3.11/site-packages (0.9.0)\n",
      "Requirement already satisfied: langchain-core<1.0.0,>=0.3.34 in /opt/anaconda3/lib/python3.11/site-packages (from langchain) (0.3.34)\n",
      "Requirement already satisfied: langchain-text-splitters<1.0.0,>=0.3.6 in /opt/anaconda3/lib/python3.11/site-packages (from langchain) (0.3.6)\n",
      "Requirement already satisfied: langsmith<0.4,>=0.1.17 in /opt/anaconda3/lib/python3.11/site-packages (from langchain) (0.3.6)\n",
      "Requirement already satisfied: pydantic<3.0.0,>=2.7.4 in /opt/anaconda3/lib/python3.11/site-packages (from langchain) (2.9.2)\n",
      "Requirement already satisfied: SQLAlchemy<3,>=1.4 in /opt/anaconda3/lib/python3.11/site-packages (from langchain) (2.0.34)\n",
      "Requirement already satisfied: requests<3,>=2 in /opt/anaconda3/lib/python3.11/site-packages (from langchain) (2.32.3)\n",
      "Requirement already satisfied: PyYAML>=5.3 in /opt/anaconda3/lib/python3.11/site-packages (from langchain) (6.0.2)\n",
      "Requirement already satisfied: aiohttp<4.0.0,>=3.8.3 in /opt/anaconda3/lib/python3.11/site-packages (from langchain) (3.10.5)\n",
      "Requirement already satisfied: tenacity!=8.4.0,<10,>=8.1.0 in /opt/anaconda3/lib/python3.11/site-packages (from langchain) (8.2.3)\n",
      "Requirement already satisfied: numpy<2,>=1.26.4 in /opt/anaconda3/lib/python3.11/site-packages (from langchain) (1.26.4)\n",
      "Collecting build>=1.0.3 (from chromadb)\n",
      "  Downloading build-1.2.2.post1-py3-none-any.whl.metadata (6.5 kB)\n",
      "Collecting chroma-hnswlib==0.7.6 (from chromadb)\n",
      "  Downloading chroma_hnswlib-0.7.6-cp311-cp311-macosx_11_0_arm64.whl.metadata (252 bytes)\n",
      "Collecting fastapi>=0.95.2 (from chromadb)\n",
      "  Downloading fastapi-0.115.8-py3-none-any.whl.metadata (27 kB)\n",
      "Collecting uvicorn>=0.18.3 (from uvicorn[standard]>=0.18.3->chromadb)\n",
      "  Downloading uvicorn-0.34.0-py3-none-any.whl.metadata (6.5 kB)\n",
      "Collecting posthog>=2.4.0 (from chromadb)\n",
      "  Downloading posthog-3.13.0-py2.py3-none-any.whl.metadata (2.9 kB)\n",
      "Requirement already satisfied: typing_extensions>=4.5.0 in /opt/anaconda3/lib/python3.11/site-packages (from chromadb) (4.11.0)\n",
      "Collecting onnxruntime>=1.14.1 (from chromadb)\n",
      "  Downloading onnxruntime-1.20.1-cp311-cp311-macosx_13_0_universal2.whl.metadata (4.5 kB)\n",
      "Collecting opentelemetry-api>=1.2.0 (from chromadb)\n",
      "  Downloading opentelemetry_api-1.30.0-py3-none-any.whl.metadata (1.6 kB)\n",
      "Collecting opentelemetry-exporter-otlp-proto-grpc>=1.2.0 (from chromadb)\n",
      "  Downloading opentelemetry_exporter_otlp_proto_grpc-1.30.0-py3-none-any.whl.metadata (2.4 kB)\n",
      "Collecting opentelemetry-instrumentation-fastapi>=0.41b0 (from chromadb)\n",
      "  Downloading opentelemetry_instrumentation_fastapi-0.51b0-py3-none-any.whl.metadata (2.2 kB)\n",
      "Collecting opentelemetry-sdk>=1.2.0 (from chromadb)\n",
      "  Downloading opentelemetry_sdk-1.30.0-py3-none-any.whl.metadata (1.6 kB)\n",
      "Collecting tokenizers>=0.13.2 (from chromadb)\n",
      "  Downloading tokenizers-0.21.0-cp39-abi3-macosx_11_0_arm64.whl.metadata (6.7 kB)\n",
      "Collecting pypika>=0.48.9 (from chromadb)\n",
      "  Downloading PyPika-0.48.9.tar.gz (67 kB)\n",
      "  Installing build dependencies ... \u001b[?25ldone\n",
      "\u001b[?25h  Getting requirements to build wheel ... \u001b[?25ldone\n",
      "\u001b[?25h  Preparing metadata (pyproject.toml) ... \u001b[?25ldone\n",
      "\u001b[?25hRequirement already satisfied: tqdm>=4.65.0 in /opt/anaconda3/lib/python3.11/site-packages (from chromadb) (4.66.5)\n",
      "Requirement already satisfied: overrides>=7.3.1 in /opt/anaconda3/lib/python3.11/site-packages (from chromadb) (7.4.0)\n",
      "Collecting importlib-resources (from chromadb)\n",
      "  Downloading importlib_resources-6.5.2-py3-none-any.whl.metadata (3.9 kB)\n",
      "Requirement already satisfied: grpcio>=1.58.0 in /opt/anaconda3/lib/python3.11/site-packages (from chromadb) (1.62.1)\n",
      "Collecting bcrypt>=4.0.1 (from chromadb)\n",
      "  Downloading bcrypt-4.2.1-cp39-abi3-macosx_10_12_universal2.whl.metadata (9.8 kB)\n",
      "Collecting typer>=0.9.0 (from chromadb)\n",
      "  Downloading typer-0.15.1-py3-none-any.whl.metadata (15 kB)\n",
      "Collecting kubernetes>=28.1.0 (from chromadb)\n",
      "  Downloading kubernetes-32.0.0-py2.py3-none-any.whl.metadata (1.5 kB)\n",
      "Collecting mmh3>=4.0.1 (from chromadb)\n",
      "  Downloading mmh3-5.1.0-cp311-cp311-macosx_11_0_arm64.whl.metadata (16 kB)\n",
      "Requirement already satisfied: orjson>=3.9.12 in /opt/anaconda3/lib/python3.11/site-packages (from chromadb) (3.10.15)\n",
      "Requirement already satisfied: httpx>=0.27.0 in /opt/anaconda3/lib/python3.11/site-packages (from chromadb) (0.27.0)\n",
      "Requirement already satisfied: rich>=10.11.0 in /opt/anaconda3/lib/python3.11/site-packages (from chromadb) (13.7.1)\n",
      "Requirement already satisfied: packaging in /opt/anaconda3/lib/python3.11/site-packages (from faiss-cpu) (24.1)\n",
      "Requirement already satisfied: dataclasses-json<0.7,>=0.5.7 in /opt/anaconda3/lib/python3.11/site-packages (from langchain-community) (0.6.7)\n",
      "Requirement already satisfied: pydantic-settings<3.0.0,>=2.4.0 in /opt/anaconda3/lib/python3.11/site-packages (from langchain-community) (2.7.1)\n",
      "Requirement already satisfied: httpx-sse<1.0.0,>=0.4.0 in /opt/anaconda3/lib/python3.11/site-packages (from langchain-community) (0.4.0)\n",
      "Requirement already satisfied: anyio<5,>=3.5.0 in /opt/anaconda3/lib/python3.11/site-packages (from openai) (4.6.2)\n",
      "Requirement already satisfied: distro<2,>=1.7.0 in /opt/anaconda3/lib/python3.11/site-packages (from openai) (1.9.0)\n",
      "Requirement already satisfied: jiter<1,>=0.4.0 in /opt/anaconda3/lib/python3.11/site-packages (from openai) (0.8.2)\n",
      "Requirement already satisfied: sniffio in /opt/anaconda3/lib/python3.11/site-packages (from openai) (1.3.0)\n",
      "Requirement already satisfied: regex>=2022.1.18 in /opt/anaconda3/lib/python3.11/site-packages (from tiktoken) (2024.9.11)\n",
      "Requirement already satisfied: aiohappyeyeballs>=2.3.0 in /opt/anaconda3/lib/python3.11/site-packages (from aiohttp<4.0.0,>=3.8.3->langchain) (2.4.0)\n",
      "Requirement already satisfied: aiosignal>=1.1.2 in /opt/anaconda3/lib/python3.11/site-packages (from aiohttp<4.0.0,>=3.8.3->langchain) (1.2.0)\n",
      "Requirement already satisfied: attrs>=17.3.0 in /opt/anaconda3/lib/python3.11/site-packages (from aiohttp<4.0.0,>=3.8.3->langchain) (24.2.0)\n",
      "Requirement already satisfied: frozenlist>=1.1.1 in /opt/anaconda3/lib/python3.11/site-packages (from aiohttp<4.0.0,>=3.8.3->langchain) (1.4.0)\n",
      "Requirement already satisfied: multidict<7.0,>=4.5 in /opt/anaconda3/lib/python3.11/site-packages (from aiohttp<4.0.0,>=3.8.3->langchain) (6.0.4)\n",
      "Requirement already satisfied: yarl<2.0,>=1.0 in /opt/anaconda3/lib/python3.11/site-packages (from aiohttp<4.0.0,>=3.8.3->langchain) (1.11.0)\n",
      "Requirement already satisfied: idna>=2.8 in /opt/anaconda3/lib/python3.11/site-packages (from anyio<5,>=3.5.0->openai) (3.7)\n",
      "Collecting pyproject_hooks (from build>=1.0.3->chromadb)\n",
      "  Downloading pyproject_hooks-1.2.0-py3-none-any.whl.metadata (1.3 kB)\n",
      "Requirement already satisfied: marshmallow<4.0.0,>=3.18.0 in /opt/anaconda3/lib/python3.11/site-packages (from dataclasses-json<0.7,>=0.5.7->langchain-community) (3.26.1)\n",
      "Requirement already satisfied: typing-inspect<1,>=0.4.0 in /opt/anaconda3/lib/python3.11/site-packages (from dataclasses-json<0.7,>=0.5.7->langchain-community) (0.9.0)\n",
      "Collecting starlette<0.46.0,>=0.40.0 (from fastapi>=0.95.2->chromadb)\n",
      "  Downloading starlette-0.45.3-py3-none-any.whl.metadata (6.3 kB)\n",
      "Requirement already satisfied: certifi in /opt/anaconda3/lib/python3.11/site-packages (from httpx>=0.27.0->chromadb) (2024.8.30)\n",
      "Requirement already satisfied: httpcore==1.* in /opt/anaconda3/lib/python3.11/site-packages (from httpx>=0.27.0->chromadb) (1.0.2)\n",
      "Requirement already satisfied: h11<0.15,>=0.13 in /opt/anaconda3/lib/python3.11/site-packages (from httpcore==1.*->httpx>=0.27.0->chromadb) (0.14.0)\n",
      "Requirement already satisfied: six>=1.9.0 in /opt/anaconda3/lib/python3.11/site-packages (from kubernetes>=28.1.0->chromadb) (1.16.0)\n",
      "Requirement already satisfied: python-dateutil>=2.5.3 in /opt/anaconda3/lib/python3.11/site-packages (from kubernetes>=28.1.0->chromadb) (2.9.0.post0)\n",
      "Collecting google-auth>=1.0.1 (from kubernetes>=28.1.0->chromadb)\n",
      "  Downloading google_auth-2.38.0-py2.py3-none-any.whl.metadata (4.8 kB)\n",
      "Requirement already satisfied: websocket-client!=0.40.0,!=0.41.*,!=0.42.*,>=0.32.0 in /opt/anaconda3/lib/python3.11/site-packages (from kubernetes>=28.1.0->chromadb) (1.8.0)\n",
      "Collecting requests-oauthlib (from kubernetes>=28.1.0->chromadb)\n",
      "  Downloading requests_oauthlib-2.0.0-py2.py3-none-any.whl.metadata (11 kB)\n",
      "Collecting oauthlib>=3.2.2 (from kubernetes>=28.1.0->chromadb)\n",
      "  Downloading oauthlib-3.2.2-py3-none-any.whl.metadata (7.5 kB)\n",
      "Requirement already satisfied: urllib3>=1.24.2 in /opt/anaconda3/lib/python3.11/site-packages (from kubernetes>=28.1.0->chromadb) (2.2.3)\n",
      "Collecting durationpy>=0.7 (from kubernetes>=28.1.0->chromadb)\n",
      "  Downloading durationpy-0.9-py3-none-any.whl.metadata (338 bytes)\n",
      "Requirement already satisfied: jsonpatch<2.0,>=1.33 in /opt/anaconda3/lib/python3.11/site-packages (from langchain-core<1.0.0,>=0.3.34->langchain) (1.33)\n",
      "Requirement already satisfied: requests-toolbelt<2.0.0,>=1.0.0 in /opt/anaconda3/lib/python3.11/site-packages (from langsmith<0.4,>=0.1.17->langchain) (1.0.0)\n",
      "Requirement already satisfied: zstandard<0.24.0,>=0.23.0 in /opt/anaconda3/lib/python3.11/site-packages (from langsmith<0.4,>=0.1.17->langchain) (0.23.0)\n",
      "Collecting coloredlogs (from onnxruntime>=1.14.1->chromadb)\n",
      "  Downloading coloredlogs-15.0.1-py2.py3-none-any.whl.metadata (12 kB)\n",
      "Requirement already satisfied: flatbuffers in /opt/anaconda3/lib/python3.11/site-packages (from onnxruntime>=1.14.1->chromadb) (24.3.25)\n",
      "Requirement already satisfied: protobuf in /opt/anaconda3/lib/python3.11/site-packages (from onnxruntime>=1.14.1->chromadb) (3.20.3)\n",
      "Requirement already satisfied: sympy in /opt/anaconda3/lib/python3.11/site-packages (from onnxruntime>=1.14.1->chromadb) (1.13.2)\n",
      "Collecting deprecated>=1.2.6 (from opentelemetry-api>=1.2.0->chromadb)\n",
      "  Downloading Deprecated-1.2.18-py2.py3-none-any.whl.metadata (5.7 kB)\n",
      "Requirement already satisfied: importlib-metadata<=8.5.0,>=6.0 in /opt/anaconda3/lib/python3.11/site-packages (from opentelemetry-api>=1.2.0->chromadb) (7.0.1)\n",
      "Collecting googleapis-common-protos~=1.52 (from opentelemetry-exporter-otlp-proto-grpc>=1.2.0->chromadb)\n",
      "  Downloading googleapis_common_protos-1.67.0-py2.py3-none-any.whl.metadata (5.1 kB)\n",
      "Collecting grpcio>=1.58.0 (from chromadb)\n",
      "  Downloading grpcio-1.70.0-cp311-cp311-macosx_10_14_universal2.whl.metadata (3.9 kB)\n",
      "Collecting opentelemetry-exporter-otlp-proto-common==1.30.0 (from opentelemetry-exporter-otlp-proto-grpc>=1.2.0->chromadb)\n",
      "  Downloading opentelemetry_exporter_otlp_proto_common-1.30.0-py3-none-any.whl.metadata (1.9 kB)\n",
      "Collecting opentelemetry-proto==1.30.0 (from opentelemetry-exporter-otlp-proto-grpc>=1.2.0->chromadb)\n",
      "  Downloading opentelemetry_proto-1.30.0-py3-none-any.whl.metadata (2.4 kB)\n",
      "Collecting protobuf (from onnxruntime>=1.14.1->chromadb)\n",
      "  Downloading protobuf-5.29.3-cp38-abi3-macosx_10_9_universal2.whl.metadata (592 bytes)\n",
      "Collecting opentelemetry-instrumentation-asgi==0.51b0 (from opentelemetry-instrumentation-fastapi>=0.41b0->chromadb)\n",
      "  Downloading opentelemetry_instrumentation_asgi-0.51b0-py3-none-any.whl.metadata (2.1 kB)\n",
      "Collecting opentelemetry-instrumentation==0.51b0 (from opentelemetry-instrumentation-fastapi>=0.41b0->chromadb)\n",
      "  Downloading opentelemetry_instrumentation-0.51b0-py3-none-any.whl.metadata (6.3 kB)\n",
      "Collecting opentelemetry-semantic-conventions==0.51b0 (from opentelemetry-instrumentation-fastapi>=0.41b0->chromadb)\n",
      "  Downloading opentelemetry_semantic_conventions-0.51b0-py3-none-any.whl.metadata (2.5 kB)\n",
      "Collecting opentelemetry-util-http==0.51b0 (from opentelemetry-instrumentation-fastapi>=0.41b0->chromadb)\n",
      "  Downloading opentelemetry_util_http-0.51b0-py3-none-any.whl.metadata (2.6 kB)\n",
      "Requirement already satisfied: wrapt<2.0.0,>=1.0.0 in /opt/anaconda3/lib/python3.11/site-packages (from opentelemetry-instrumentation==0.51b0->opentelemetry-instrumentation-fastapi>=0.41b0->chromadb) (1.14.1)\n",
      "Requirement already satisfied: asgiref~=3.0 in /opt/anaconda3/lib/python3.11/site-packages (from opentelemetry-instrumentation-asgi==0.51b0->opentelemetry-instrumentation-fastapi>=0.41b0->chromadb) (3.8.1)\n",
      "Collecting monotonic>=1.5 (from posthog>=2.4.0->chromadb)\n",
      "  Downloading monotonic-1.6-py2.py3-none-any.whl.metadata (1.5 kB)\n",
      "Collecting backoff>=1.10.0 (from posthog>=2.4.0->chromadb)\n",
      "  Downloading backoff-2.2.1-py3-none-any.whl.metadata (14 kB)\n",
      "Requirement already satisfied: annotated-types>=0.6.0 in /opt/anaconda3/lib/python3.11/site-packages (from pydantic<3.0.0,>=2.7.4->langchain) (0.6.0)\n",
      "Requirement already satisfied: pydantic-core==2.23.4 in /opt/anaconda3/lib/python3.11/site-packages (from pydantic<3.0.0,>=2.7.4->langchain) (2.23.4)\n",
      "Requirement already satisfied: python-dotenv>=0.21.0 in /opt/anaconda3/lib/python3.11/site-packages (from pydantic-settings<3.0.0,>=2.4.0->langchain-community) (0.21.0)\n",
      "Requirement already satisfied: charset-normalizer<4,>=2 in /opt/anaconda3/lib/python3.11/site-packages (from requests<3,>=2->langchain) (3.3.2)\n",
      "Requirement already satisfied: markdown-it-py>=2.2.0 in /opt/anaconda3/lib/python3.11/site-packages (from rich>=10.11.0->chromadb) (2.2.0)\n",
      "Requirement already satisfied: pygments<3.0.0,>=2.13.0 in /opt/anaconda3/lib/python3.11/site-packages (from rich>=10.11.0->chromadb) (2.15.1)\n",
      "Collecting huggingface-hub<1.0,>=0.16.4 (from tokenizers>=0.13.2->chromadb)\n",
      "  Downloading huggingface_hub-0.28.1-py3-none-any.whl.metadata (13 kB)\n",
      "Requirement already satisfied: click>=8.0.0 in /opt/anaconda3/lib/python3.11/site-packages (from typer>=0.9.0->chromadb) (8.1.7)\n",
      "Collecting shellingham>=1.3.0 (from typer>=0.9.0->chromadb)\n",
      "  Downloading shellingham-1.5.4-py2.py3-none-any.whl.metadata (3.5 kB)\n",
      "Collecting httptools>=0.6.3 (from uvicorn[standard]>=0.18.3->chromadb)\n",
      "  Downloading httptools-0.6.4-cp311-cp311-macosx_11_0_arm64.whl.metadata (3.6 kB)\n",
      "Collecting uvloop!=0.15.0,!=0.15.1,>=0.14.0 (from uvicorn[standard]>=0.18.3->chromadb)\n",
      "  Downloading uvloop-0.21.0-cp311-cp311-macosx_10_9_universal2.whl.metadata (4.9 kB)\n",
      "Collecting watchfiles>=0.13 (from uvicorn[standard]>=0.18.3->chromadb)\n",
      "  Downloading watchfiles-1.0.4-cp311-cp311-macosx_11_0_arm64.whl.metadata (4.9 kB)\n",
      "Collecting websockets>=10.4 (from uvicorn[standard]>=0.18.3->chromadb)\n",
      "  Downloading websockets-14.2-cp311-cp311-macosx_11_0_arm64.whl.metadata (6.8 kB)\n",
      "Requirement already satisfied: cachetools<6.0,>=2.0.0 in /opt/anaconda3/lib/python3.11/site-packages (from google-auth>=1.0.1->kubernetes>=28.1.0->chromadb) (5.3.3)\n",
      "Requirement already satisfied: pyasn1-modules>=0.2.1 in /opt/anaconda3/lib/python3.11/site-packages (from google-auth>=1.0.1->kubernetes>=28.1.0->chromadb) (0.2.8)\n",
      "Collecting rsa<5,>=3.1.4 (from google-auth>=1.0.1->kubernetes>=28.1.0->chromadb)\n",
      "  Downloading rsa-4.9-py3-none-any.whl.metadata (4.2 kB)\n",
      "Requirement already satisfied: filelock in /opt/anaconda3/lib/python3.11/site-packages (from huggingface-hub<1.0,>=0.16.4->tokenizers>=0.13.2->chromadb) (3.13.1)\n",
      "Requirement already satisfied: fsspec>=2023.5.0 in /opt/anaconda3/lib/python3.11/site-packages (from huggingface-hub<1.0,>=0.16.4->tokenizers>=0.13.2->chromadb) (2024.6.1)\n",
      "Requirement already satisfied: zipp>=0.5 in /opt/anaconda3/lib/python3.11/site-packages (from importlib-metadata<=8.5.0,>=6.0->opentelemetry-api>=1.2.0->chromadb) (3.20.2)\n",
      "Requirement already satisfied: jsonpointer>=1.9 in /opt/anaconda3/lib/python3.11/site-packages (from jsonpatch<2.0,>=1.33->langchain-core<1.0.0,>=0.3.34->langchain) (2.1)\n",
      "Requirement already satisfied: mdurl~=0.1 in /opt/anaconda3/lib/python3.11/site-packages (from markdown-it-py>=2.2.0->rich>=10.11.0->chromadb) (0.1.0)\n",
      "Requirement already satisfied: mypy-extensions>=0.3.0 in /opt/anaconda3/lib/python3.11/site-packages (from typing-inspect<1,>=0.4.0->dataclasses-json<0.7,>=0.5.7->langchain-community) (1.0.0)\n",
      "Collecting humanfriendly>=9.1 (from coloredlogs->onnxruntime>=1.14.1->chromadb)\n",
      "  Downloading humanfriendly-10.0-py2.py3-none-any.whl.metadata (9.2 kB)\n",
      "Requirement already satisfied: mpmath<1.4,>=1.1.0 in /opt/anaconda3/lib/python3.11/site-packages (from sympy->onnxruntime>=1.14.1->chromadb) (1.3.0)\n",
      "Requirement already satisfied: pyasn1<0.5.0,>=0.4.6 in /opt/anaconda3/lib/python3.11/site-packages (from pyasn1-modules>=0.2.1->google-auth>=1.0.1->kubernetes>=28.1.0->chromadb) (0.4.8)\n",
      "Downloading chromadb-0.6.3-py3-none-any.whl (611 kB)\n",
      "\u001b[2K   \u001b[90m━━━━━━━━━━━━━━━━━━━━━━━━━━━━━━━━━━━━━━━━\u001b[0m \u001b[32m611.1/611.1 kB\u001b[0m \u001b[31m23.8 MB/s\u001b[0m eta \u001b[36m0:00:00\u001b[0m\n",
      "\u001b[?25hDownloading chroma_hnswlib-0.7.6-cp311-cp311-macosx_11_0_arm64.whl (185 kB)\n",
      "Downloading faiss_cpu-1.10.0-cp311-cp311-macosx_11_0_arm64.whl (3.2 MB)\n",
      "\u001b[2K   \u001b[90m━━━━━━━━━━━━━━━━━━━━━━━━━━━━━━━━━━━━━━━━\u001b[0m \u001b[32m3.2/3.2 MB\u001b[0m \u001b[31m36.4 MB/s\u001b[0m eta \u001b[36m0:00:00\u001b[0m\n",
      "\u001b[?25hDownloading bcrypt-4.2.1-cp39-abi3-macosx_10_12_universal2.whl (489 kB)\n",
      "Downloading build-1.2.2.post1-py3-none-any.whl (22 kB)\n",
      "Downloading fastapi-0.115.8-py3-none-any.whl (94 kB)\n",
      "Downloading kubernetes-32.0.0-py2.py3-none-any.whl (2.0 MB)\n",
      "\u001b[2K   \u001b[90m━━━━━━━━━━━━━━━━━━━━━━━━━━━━━━━━━━━━━━━━\u001b[0m \u001b[32m2.0/2.0 MB\u001b[0m \u001b[31m30.1 MB/s\u001b[0m eta \u001b[36m0:00:00\u001b[0m\n",
      "\u001b[?25hDownloading mmh3-5.1.0-cp311-cp311-macosx_11_0_arm64.whl (40 kB)\n",
      "Downloading onnxruntime-1.20.1-cp311-cp311-macosx_13_0_universal2.whl (31.0 MB)\n",
      "\u001b[2K   \u001b[90m━━━━━━━━━━━━━━━━━━━━━━━━━━━━━━━━━━━━━━━━\u001b[0m \u001b[32m31.0/31.0 MB\u001b[0m \u001b[31m40.4 MB/s\u001b[0m eta \u001b[36m0:00:00\u001b[0ma \u001b[36m0:00:01\u001b[0m\n",
      "\u001b[?25hDownloading opentelemetry_api-1.30.0-py3-none-any.whl (64 kB)\n",
      "Downloading opentelemetry_exporter_otlp_proto_grpc-1.30.0-py3-none-any.whl (18 kB)\n",
      "Downloading opentelemetry_exporter_otlp_proto_common-1.30.0-py3-none-any.whl (18 kB)\n",
      "Downloading opentelemetry_proto-1.30.0-py3-none-any.whl (55 kB)\n",
      "Downloading grpcio-1.70.0-cp311-cp311-macosx_10_14_universal2.whl (11.5 MB)\n",
      "\u001b[2K   \u001b[90m━━━━━━━━━━━━━━━━━━━━━━━━━━━━━━━━━━━━━━━━\u001b[0m \u001b[32m11.5/11.5 MB\u001b[0m \u001b[31m62.0 MB/s\u001b[0m eta \u001b[36m0:00:00\u001b[0m\n",
      "\u001b[?25hDownloading opentelemetry_instrumentation_fastapi-0.51b0-py3-none-any.whl (12 kB)\n",
      "Downloading opentelemetry_instrumentation-0.51b0-py3-none-any.whl (30 kB)\n",
      "Downloading opentelemetry_instrumentation_asgi-0.51b0-py3-none-any.whl (16 kB)\n",
      "Downloading opentelemetry_semantic_conventions-0.51b0-py3-none-any.whl (177 kB)\n",
      "Downloading opentelemetry_util_http-0.51b0-py3-none-any.whl (7.3 kB)\n",
      "Downloading opentelemetry_sdk-1.30.0-py3-none-any.whl (118 kB)\n",
      "Downloading posthog-3.13.0-py2.py3-none-any.whl (72 kB)\n",
      "Downloading tokenizers-0.21.0-cp39-abi3-macosx_11_0_arm64.whl (2.6 MB)\n",
      "\u001b[2K   \u001b[90m━━━━━━━━━━━━━━━━━━━━━━━━━━━━━━━━━━━━━━━━\u001b[0m \u001b[32m2.6/2.6 MB\u001b[0m \u001b[31m67.4 MB/s\u001b[0m eta \u001b[36m0:00:00\u001b[0m\n",
      "\u001b[?25hDownloading typer-0.15.1-py3-none-any.whl (44 kB)\n",
      "Downloading uvicorn-0.34.0-py3-none-any.whl (62 kB)\n",
      "Downloading importlib_resources-6.5.2-py3-none-any.whl (37 kB)\n",
      "Downloading backoff-2.2.1-py3-none-any.whl (15 kB)\n",
      "Downloading Deprecated-1.2.18-py2.py3-none-any.whl (10.0 kB)\n",
      "Downloading durationpy-0.9-py3-none-any.whl (3.5 kB)\n",
      "Downloading google_auth-2.38.0-py2.py3-none-any.whl (210 kB)\n",
      "Downloading googleapis_common_protos-1.67.0-py2.py3-none-any.whl (164 kB)\n",
      "Downloading httptools-0.6.4-cp311-cp311-macosx_11_0_arm64.whl (103 kB)\n",
      "Downloading huggingface_hub-0.28.1-py3-none-any.whl (464 kB)\n",
      "Downloading monotonic-1.6-py2.py3-none-any.whl (8.2 kB)\n",
      "Downloading oauthlib-3.2.2-py3-none-any.whl (151 kB)\n",
      "Downloading protobuf-5.29.3-cp38-abi3-macosx_10_9_universal2.whl (417 kB)\n",
      "Downloading shellingham-1.5.4-py2.py3-none-any.whl (9.8 kB)\n",
      "Downloading starlette-0.45.3-py3-none-any.whl (71 kB)\n",
      "Downloading uvloop-0.21.0-cp311-cp311-macosx_10_9_universal2.whl (1.4 MB)\n",
      "\u001b[2K   \u001b[90m━━━━━━━━━━━━━━━━━━━━━━━━━━━━━━━━━━━━━━━━\u001b[0m \u001b[32m1.4/1.4 MB\u001b[0m \u001b[31m43.5 MB/s\u001b[0m eta \u001b[36m0:00:00\u001b[0m\n",
      "\u001b[?25hDownloading watchfiles-1.0.4-cp311-cp311-macosx_11_0_arm64.whl (384 kB)\n",
      "Downloading websockets-14.2-cp311-cp311-macosx_11_0_arm64.whl (160 kB)\n",
      "Downloading coloredlogs-15.0.1-py2.py3-none-any.whl (46 kB)\n",
      "Downloading pyproject_hooks-1.2.0-py3-none-any.whl (10 kB)\n",
      "Downloading requests_oauthlib-2.0.0-py2.py3-none-any.whl (24 kB)\n",
      "Downloading humanfriendly-10.0-py2.py3-none-any.whl (86 kB)\n",
      "Downloading rsa-4.9-py3-none-any.whl (34 kB)\n",
      "Building wheels for collected packages: pypika\n",
      "  Building wheel for pypika (pyproject.toml) ... \u001b[?25ldone\n",
      "\u001b[?25h  Created wheel for pypika: filename=PyPika-0.48.9-py2.py3-none-any.whl size=53771 sha256=2e58ef3d96ef60fe7e5ee5d011b2fe5494905f6cf80dbcd1412c20f8d88ba5ff\n",
      "  Stored in directory: /Users/shinyuri/Library/Caches/pip/wheels/a3/01/bd/4c40ceb9d5354160cb186dcc153360f4ab7eb23e2b24daf96d\n",
      "Successfully built pypika\n",
      "Installing collected packages: pypika, monotonic, durationpy, websockets, uvloop, uvicorn, shellingham, rsa, pyproject_hooks, protobuf, opentelemetry-util-http, oauthlib, mmh3, importlib-resources, humanfriendly, httptools, grpcio, faiss-cpu, deprecated, chroma-hnswlib, bcrypt, backoff, watchfiles, starlette, requests-oauthlib, posthog, opentelemetry-proto, opentelemetry-api, huggingface-hub, googleapis-common-protos, google-auth, coloredlogs, build, typer, tokenizers, opentelemetry-semantic-conventions, opentelemetry-exporter-otlp-proto-common, onnxruntime, kubernetes, fastapi, opentelemetry-sdk, opentelemetry-instrumentation, opentelemetry-instrumentation-asgi, opentelemetry-exporter-otlp-proto-grpc, opentelemetry-instrumentation-fastapi, chromadb\n",
      "  Attempting uninstall: protobuf\n",
      "    Found existing installation: protobuf 3.20.3\n",
      "    Uninstalling protobuf-3.20.3:\n",
      "      Successfully uninstalled protobuf-3.20.3\n",
      "  Attempting uninstall: grpcio\n",
      "    Found existing installation: grpcio 1.62.1\n",
      "    Uninstalling grpcio-1.62.1:\n",
      "      Successfully uninstalled grpcio-1.62.1\n",
      "  Attempting uninstall: bcrypt\n",
      "    Found existing installation: bcrypt 3.2.0\n",
      "    Uninstalling bcrypt-3.2.0:\n",
      "      Successfully uninstalled bcrypt-3.2.0\n",
      "\u001b[31mERROR: pip's dependency resolver does not currently take into account all the packages that are installed. This behaviour is the source of the following dependency conflicts.\n",
      "tensorflow 2.16.1 requires protobuf!=4.21.0,!=4.21.1,!=4.21.2,!=4.21.3,!=4.21.4,!=4.21.5,<5.0.0dev,>=3.20.3, but you have protobuf 5.29.3 which is incompatible.\u001b[0m\u001b[31m\n",
      "\u001b[0mSuccessfully installed backoff-2.2.1 bcrypt-4.2.1 build-1.2.2.post1 chroma-hnswlib-0.7.6 chromadb-0.6.3 coloredlogs-15.0.1 deprecated-1.2.18 durationpy-0.9 faiss-cpu-1.10.0 fastapi-0.115.8 google-auth-2.38.0 googleapis-common-protos-1.67.0 grpcio-1.70.0 httptools-0.6.4 huggingface-hub-0.28.1 humanfriendly-10.0 importlib-resources-6.5.2 kubernetes-32.0.0 mmh3-5.1.0 monotonic-1.6 oauthlib-3.2.2 onnxruntime-1.20.1 opentelemetry-api-1.30.0 opentelemetry-exporter-otlp-proto-common-1.30.0 opentelemetry-exporter-otlp-proto-grpc-1.30.0 opentelemetry-instrumentation-0.51b0 opentelemetry-instrumentation-asgi-0.51b0 opentelemetry-instrumentation-fastapi-0.51b0 opentelemetry-proto-1.30.0 opentelemetry-sdk-1.30.0 opentelemetry-semantic-conventions-0.51b0 opentelemetry-util-http-0.51b0 posthog-3.13.0 protobuf-5.29.3 pypika-0.48.9 pyproject_hooks-1.2.0 requests-oauthlib-2.0.0 rsa-4.9 shellingham-1.5.4 starlette-0.45.3 tokenizers-0.21.0 typer-0.15.1 uvicorn-0.34.0 uvloop-0.21.0 watchfiles-1.0.4 websockets-14.2\n",
      "Note: you may need to restart the kernel to use updated packages.\n"
     ]
    }
   ],
   "source": [
    "pip install langchain chromadb faiss-cpu langchain-community pypdf openai tiktoken"
   ]
  },
  {
   "cell_type": "code",
   "execution_count": 2,
   "metadata": {
    "id": "Uyz_djYXkdq0"
   },
   "outputs": [],
   "source": [
    "import os\n",
    "import urllib.request\n",
    "from langchain.document_loaders import PyPDFLoader\n",
    "from langchain.text_splitter import RecursiveCharacterTextSplitter\n",
    "from langchain.embeddings import OpenAIEmbeddings\n",
    "from langchain.vectorstores import Chroma\n",
    "from langchain.vectorstores import FAISS\n",
    "\n",
    "os.environ['OPENAI_API_KEY'] = '여러분들의 OpenAI Key 값'"
   ]
  },
  {
   "cell_type": "code",
   "execution_count": 3,
   "metadata": {
    "colab": {
     "base_uri": "https://localhost:8080/"
    },
    "id": "YEjVPwLzkxcl",
    "outputId": "db78a494-0d2f-417b-82dd-fd19e9d0121b"
   },
   "outputs": [
    {
     "data": {
      "text/plain": [
       "('2023_북한인권보고서.pdf', <http.client.HTTPMessage at 0x123261850>)"
      ]
     },
     "execution_count": 3,
     "metadata": {},
     "output_type": "execute_result"
    }
   ],
   "source": [
    "urllib.request.urlretrieve(\"https://github.com/chatgpt-kr/openai-api-tutorial/raw/main/ch06/2023_%EB%B6%81%ED%95%9C%EC%9D%B8%EA%B6%8C%EB%B3%B4%EA%B3%A0%EC%84%9C.pdf\", filename=\"2023_북한인권보고서.pdf\")"
   ]
  },
  {
   "cell_type": "code",
   "execution_count": 4,
   "metadata": {
    "colab": {
     "base_uri": "https://localhost:8080/"
    },
    "id": "Qj1Q8h9TlNhb",
    "outputId": "2da2b25b-d2e3-4ad6-ad29-38c7ffe57ba9"
   },
   "outputs": [
    {
     "name": "stdout",
     "output_type": "stream",
     "text": [
      "청크의 수: 445\n"
     ]
    }
   ],
   "source": [
    "loader = PyPDFLoader('2023_북한인권보고서.pdf')\n",
    "pages = loader.load_and_split()\n",
    "print('청크의 수:', len(pages))"
   ]
  },
  {
   "cell_type": "code",
   "execution_count": 5,
   "metadata": {
    "id": "SSFa2tpnk1fM"
   },
   "outputs": [],
   "source": [
    "text_splitter = RecursiveCharacterTextSplitter(chunk_size=1000, chunk_overlap=0)"
   ]
  },
  {
   "cell_type": "code",
   "execution_count": 6,
   "metadata": {
    "colab": {
     "base_uri": "https://localhost:8080/"
    },
    "id": "YNOM5oEMlGcM",
    "outputId": "9ed7cf49-998c-4f8d-bfc1-f6637d8762c7"
   },
   "outputs": [
    {
     "name": "stdout",
     "output_type": "stream",
     "text": [
      "분할된 청크의 수: 497\n"
     ]
    }
   ],
   "source": [
    "splited_docs = text_splitter.split_documents(pages)\n",
    "print('분할된 청크의 수:', len(splited_docs))"
   ]
  },
  {
   "cell_type": "code",
   "execution_count": 7,
   "metadata": {
    "colab": {
     "base_uri": "https://localhost:8080/"
    },
    "id": "XOI5jEnRlIl8",
    "outputId": "30584ef8-f361-4db5-b721-122071820779"
   },
   "outputs": [
    {
     "name": "stdout",
     "output_type": "stream",
     "text": [
      "청크의 최대 길이 : 1000\n"
     ]
    }
   ],
   "source": [
    "chunks = [splited_doc.page_content for splited_doc in splited_docs]\n",
    "print('청크의 최대 길이 :',max(len(chunk) for chunk in chunks))"
   ]
  },
  {
   "cell_type": "code",
   "execution_count": 8,
   "metadata": {
    "colab": {
     "base_uri": "https://localhost:8080/"
    },
    "id": "dkI3iAYxlQml",
    "outputId": "9e57e738-1911-451f-d28e-14f3af69e28f"
   },
   "outputs": [
    {
     "name": "stderr",
     "output_type": "stream",
     "text": [
      "/var/folders/hl/t9j0xf754r12rg2z1pd0sg_80000gn/T/ipykernel_24831/3396381579.py:1: LangChainDeprecationWarning: The class `OpenAIEmbeddings` was deprecated in LangChain 0.0.9 and will be removed in 1.0. An updated version of the class exists in the :class:`~langchain-openai package and should be used instead. To use it run `pip install -U :class:`~langchain-openai` and import as `from :class:`~langchain_openai import OpenAIEmbeddings``.\n",
      "  db = Chroma.from_documents(splited_docs, OpenAIEmbeddings())\n"
     ]
    },
    {
     "name": "stdout",
     "output_type": "stream",
     "text": [
      "문서의 수: 497\n"
     ]
    }
   ],
   "source": [
    "db = Chroma.from_documents(splited_docs, OpenAIEmbeddings())\n",
    "print('문서의 수:', db._collection.count())"
   ]
  },
  {
   "cell_type": "code",
   "execution_count": 9,
   "metadata": {
    "colab": {
     "base_uri": "https://localhost:8080/"
    },
    "id": "OjMqKxjZlUle",
    "outputId": "8ef35168-3f61-472b-b9df-bcd894b4c77c"
   },
   "outputs": [
    {
     "name": "stdout",
     "output_type": "stream",
     "text": [
      "문서의 수: 4\n"
     ]
    }
   ],
   "source": [
    "question = '북한의 교육과정'\n",
    "docs = db.similarity_search(question)\n",
    "print('문서의 수:', len(docs))"
   ]
  },
  {
   "cell_type": "code",
   "execution_count": 10,
   "metadata": {
    "colab": {
     "base_uri": "https://localhost:8080/"
    },
    "id": "61tPEEM1lUxM",
    "outputId": "b18b3438-002e-453c-9a78-6ed97a66b45c"
   },
   "outputs": [
    {
     "name": "stdout",
     "output_type": "stream",
     "text": [
      "page_content='2023 북한인권보고서\n",
      "40\n",
      "명목의 교육비용이 전가되고 있는 것으로 나타났다. 교과서는 ‘교과\n",
      "서 요금’이라는 명목으로 일정 금액을 내야하는 경우가 많으며, 교\n",
      "과서가 모든 학생에게 충분히 제공되지 않고 학년을 마치면 다음 학\n",
      "년에 교과서를 물려주어야 했다는 사례가 다수 수집되었다. 소학교\n",
      "부터 학교운영비, 꼬마계획 등의 비용을 내야했다는 진술이 꾸준히 \n",
      "수집되고 있는데, 학교시설 현대화 작업이 진행되면서 학교꾸리기 \n",
      "비용이 증가했다고 한다. 학교에서 요구하는 돈이나 물품은 교원에 \n",
      "의해 사실상 강제되고 있었는데, 비용을 내지 못하는 경우 동급생들 \n",
      "앞에서 망신을 주거나 비판하여 형편이 어려운 학생들은 학교를 그\n",
      "만두는 선택을 하는 경우가 많다고 한다. 또한 도시와 농촌 간 교육\n",
      "환경의 차이가 크며 대학입학에서 출신성분에 의한 차별이 있고, 교\n",
      "육기회의 제공에도 경제력이 영향을 미치고 있어 성분·지역·경제\n",
      "력에 따른 차별이 존재하는 것으로 나타났다. 교육환경도 열악한데, \n",
      "학교시설의 현대화 작업에도 불구하고 양호실, 도서관, 위생시설이 \n",
      "없는 학교도 많은 것으로 보인다. 교원에 대한 경제적 보상도 적절\n",
      "히 이루어지지 않아, 교원들은 생계를 유지하기 위해 잘사는 학부모\n",
      "의 원조를 받거나 자신의 텃밭에 학생을 동원시키고 있어 학생들은 \n",
      "제대로 된 교육여건을 보장받지 못하고 있는 것으로 나타났다. 또\n",
      "한, 일반교육보다 정치사상교육을 앞세우고 있으며 교과과정에 실\n",
      "탄사격을 하는 군사훈련을 편성하여 학생들을 의무적으로 참석하게 \n",
      "하고 있다.\n",
      "북한의 사회보장 제도로는 연로연금, 노동능력상실 연금, 유가족 \n",
      "연금 등 생계가 결핍된 경우 기초적인 생계를 보장하기 위한 연금제\n",
      "도가 있으며, 사회보험금의 성격을 지닌 보조금 제도가 있다. 연로' metadata={'creationdate': '2023-07-31T13:50:27+09:00', 'creator': 'Adobe InDesign CS6 (Windows)', 'moddate': '2023-07-31T13:57:54+09:00', 'page': 41, 'page_label': '42', 'producer': 'Adobe PDF Library 10.0.1', 'source': '2023_북한인권보고서.pdf', 'total_pages': 448, 'trapped': '/False'}\n",
      "--------------------\n",
      "page_content='309\t\t북한의\t학제는\t2012년\t전반적\t의무교육(유치원\t1년,\t소학교\t5년,\t초급중학교\t3년,\t고급중학교\t3년)으로\t\n",
      "개편되었는데,\t학제개편\t이전에는\t초급중학교와\t고급중학교를\t통합하여\t중학교\t6년\t과정(1972년~2011\n",
      "년)으로\t운영하였고,\t중학교\t또는\t고등중학교라고\t칭하였다.(통일부\t국립통일교육원,\t『북한의\t이해』,\t\n",
      "2022)' metadata={'creationdate': '2023-07-31T13:50:27+09:00', 'creator': 'Adobe InDesign CS6 (Windows)', 'moddate': '2023-07-31T13:57:54+09:00', 'page': 283, 'page_label': '284', 'producer': 'Adobe PDF Library 10.0.1', 'source': '2023_북한인권보고서.pdf', 'total_pages': 448, 'trapped': '/False'}\n",
      "--------------------\n",
      "page_content='2023 북한인권보고서\n",
      "342\n",
      "2018년에 학교에서 추천하여 소년궁전 스키부에 선발되었으나, 체\n",
      "육종합지도원이 자신의 출신성분이 좋지 않다는 이유로 선발명단에\n",
      "서 자신을 제외했다고 진술하였다. 정치범수용소에서는 이주민 자\n",
      "녀의 경우 정규교육과정을 받지 못한다는 증언도 있었다. 정치범수\n",
      "용소에도 소학교와 중학교가 있지만 일반 학교와는 달리 학생들이 \n",
      "책가방 대신 지게를 지고 출석하고 학교에서 농사짓는 법에 대해 배\n",
      "운다고 한다. \n",
      "북한에서는 대학 진학 시에도 출신성분에 따른 차별이 존재하는 \n",
      "것으로 나타났다. 한 증언자는 2019년에 고급중학교를 졸업하고 대\n",
      "학에 진학하려고 했는데, 본인 문건에 어머니가 행방불명으로 되어 \n",
      "있어 출신성분이 나쁘다는 이유로 대학에 진학할 수 없었다고 한다. \n",
      "이러한 차별행위는 교육부의 정책에 따른 것이라고 한다. 다른 증\n",
      "언자는 2018년에 의학대학에 진학하고 싶었는데, 교육과장과 면담\n",
      "하는 과정에서 ‘어머니가 행방불명이라 너 같은 아이는 대학에 가기 \n",
      "어렵다.’는 이야기를 듣고 대학 진학을 포기했다고 한다. 중학교 졸\n",
      "업 후 농민의 자식이라는 이유로 일반 대학뿐만 아니라 공업전문학\n",
      "교도 진학할 수 없었다는 증언도 있었다. \n",
      " \n",
      "(2) 경제력에 따른 차별 \n",
      "북한에서는 교육기회에 있어 경제력에 따른 차별이 존재하는 것\n",
      "으로 보인다. 수집된 증언에 따르면 무상교육제가 유명무실해진 상\n",
      "황에서 교육비 부담으로 경제적 취약계층의 아동들이 장기간 결석하\n",
      "거나 중도에 학교를 그만두는 것으로 나타났다. 한 증언자는 2018년\n",
      "에 아들이 소학교 학생이었는데, 당시 학급 정원의 25% 정도가 경제' metadata={'creationdate': '2023-07-31T13:50:27+09:00', 'creator': 'Adobe InDesign CS6 (Windows)', 'moddate': '2023-07-31T13:57:54+09:00', 'page': 343, 'page_label': '344', 'producer': 'Adobe PDF Library 10.0.1', 'source': '2023_북한인권보고서.pdf', 'total_pages': 448, 'trapped': '/False'}\n",
      "--------------------\n",
      "page_content='2023 북한인권보고서\n",
      "184\n",
      "데, 당국이 실시하는 반종교 교육을 통해 기독교를 접한 경우였다. 기\n",
      "독교 관련 북한당국의 반종교 교육은 학교 교과과정에서 뿐만 아니\n",
      "라 졸업 후 조직생활을 통해서도 이루어지고 있었다. 수집된 증언에 \n",
      "따르면 북한에서 반종교 교육을 받고 종교에 대한 부정적 인식이 증\n",
      "가했다고 한다. 기독교를 믿는 사람을 반동분자로 인식하고 있었다\n",
      "는 증언들도 있었다. 한 증언자는 2015년에 계급교양관을 1달에 1번\n",
      "씩 참관해야 했는데, 거기서 ‘종교는 침략자들이 북한에 가져온 것으\n",
      "로 그들이 성경도 가져왔다’는 내용이 포함된 반종교 교육을 받았다\n",
      "고 한다. 기독교인들은 제국주의적 침략의 앞잡이이므로 반민족적·\n",
      "반혁명적 적대계층이라는 내용도 있었다고 한다. 다른 증언자는 교육\n",
      "기관, 사회기관, 법기관에서 ‘종교는 허황된 것이고 거짓’이며 선교사\n",
      "는 악한 자라고 세뇌가 될 정도로 지속적으로 교육하기 때문에 감히 \n",
      "종교에 관심을 가질 생각도 하지 못했고 ‘선교사’라는 단어를 들으면 \n",
      "지금도 무섭다고 한다. 인민반 강연 등에서 기독교를 믿는 사람은 반\n",
      "동분자라고 하면서 이들을 보면 신고하라고 했다는 증언도 있었다. \n",
      "“주민들을 모아 놓고 교양하는 때가 있었는데, 그 때 처음 ‘성경책 \n",
      "사진, 예배하는 모습의 사진’을 본 적이 있습니다. 반동조직이라고 \n",
      "교육하면서 성경에는 미신에 관한 것이 적혀있어 이것을 읽게 되면 \n",
      "사상이 변질되니 이런 책을 주변에서 보게 되면 신고하라고 했습니\n",
      "다. 이들은 국가 반역자로 이 땅에서 사라져야 한다고 선전했습니\n",
      "다. 그래서 재북시 저 뿐만이 아니라 북한 주민들은 성경책이 북한 \n",
      "제도에 대해 안 좋게 적어놓은 책으로 알고 있었고 이를 소지하면 \n",
      "죽임을 당한다고 알고 있었습니다. ”\n",
      "북한에서 기독교를 탄압하는 이유는 기독교의 유일신 사상이 수\n",
      "령 우상화 정책과 주체사상에 반하기 때문이라고 한다. 한 증언자는' metadata={'creationdate': '2023-07-31T13:50:27+09:00', 'creator': 'Adobe InDesign CS6 (Windows)', 'moddate': '2023-07-31T13:57:54+09:00', 'page': 185, 'page_label': '186', 'producer': 'Adobe PDF Library 10.0.1', 'source': '2023_북한인권보고서.pdf', 'total_pages': 448, 'trapped': '/False'}\n",
      "--------------------\n"
     ]
    }
   ],
   "source": [
    "for doc in docs:\n",
    "  print(doc)\n",
    "  print('--' * 10)"
   ]
  },
  {
   "cell_type": "code",
   "execution_count": 11,
   "metadata": {
    "colab": {
     "base_uri": "https://localhost:8080/"
    },
    "id": "48W_R1RQlV8U",
    "outputId": "a6a0f2e6-3b9d-4559-8181-a1b88f2adf8b"
   },
   "outputs": [
    {
     "name": "stdout",
     "output_type": "stream",
     "text": [
      "문서의 수: 497\n"
     ]
    }
   ],
   "source": [
    "db_to_file = Chroma.from_documents(splited_docs, OpenAIEmbeddings(), persist_directory = './chroma_test.db')\n",
    "print('문서의 수:', db_to_file._collection.count())"
   ]
  },
  {
   "cell_type": "code",
   "execution_count": 12,
   "metadata": {
    "colab": {
     "base_uri": "https://localhost:8080/"
    },
    "id": "QaYpDdn2lXeM",
    "outputId": "63c8dffa-c882-48d9-fbd8-371bd7725210"
   },
   "outputs": [
    {
     "name": "stderr",
     "output_type": "stream",
     "text": [
      "/var/folders/hl/t9j0xf754r12rg2z1pd0sg_80000gn/T/ipykernel_24831/112611589.py:1: LangChainDeprecationWarning: The class `Chroma` was deprecated in LangChain 0.2.9 and will be removed in 1.0. An updated version of the class exists in the :class:`~langchain-chroma package and should be used instead. To use it run `pip install -U :class:`~langchain-chroma` and import as `from :class:`~langchain_chroma import Chroma``.\n",
      "  db_from_file = Chroma(persist_directory='./chroma_test.db',\n"
     ]
    }
   ],
   "source": [
    "db_from_file = Chroma(persist_directory='./chroma_test.db',\n",
    "\t\t      embedding_function=OpenAIEmbeddings())"
   ]
  },
  {
   "cell_type": "code",
   "execution_count": 13,
   "metadata": {
    "colab": {
     "base_uri": "https://localhost:8080/"
    },
    "id": "kFo1aLiUlYuT",
    "outputId": "4ea13b9c-2e50-4474-f714-6676d24b5985"
   },
   "outputs": [
    {
     "name": "stdout",
     "output_type": "stream",
     "text": [
      "문서의 수: 497\n"
     ]
    }
   ],
   "source": [
    "print('문서의 수:', db_from_file._collection.count())"
   ]
  },
  {
   "cell_type": "code",
   "execution_count": 14,
   "metadata": {
    "colab": {
     "base_uri": "https://localhost:8080/"
    },
    "id": "l7-MKqpJlZ9c",
    "outputId": "12072d57-8669-4a70-b6e9-baae83fc8c21"
   },
   "outputs": [
    {
     "name": "stdout",
     "output_type": "stream",
     "text": [
      "문서의 수: 497\n"
     ]
    }
   ],
   "source": [
    "faiss_db = FAISS.from_documents(splited_docs, OpenAIEmbeddings())\n",
    "print('문서의 수:', faiss_db.index.ntotal)"
   ]
  },
  {
   "cell_type": "code",
   "execution_count": 15,
   "metadata": {
    "id": "sqaSKMiEmEAJ"
   },
   "outputs": [],
   "source": [
    "faiss_db.save_local('faiss_index')\n",
    "\n",
    "new_db_faiss = FAISS.load_local('faiss_index',\n",
    "\t\t\t\tOpenAIEmbeddings(),\n",
    "\t\t\t\tallow_dangerous_deserialization=True)"
   ]
  },
  {
   "cell_type": "code",
   "execution_count": 16,
   "metadata": {
    "colab": {
     "base_uri": "https://localhost:8080/"
    },
    "id": "i6WZjLY7mVc0",
    "outputId": "b6569d3e-1ea3-4591-a2a6-ba302334b41e"
   },
   "outputs": [
    {
     "name": "stdout",
     "output_type": "stream",
     "text": [
      "page_content='2023 북한인권보고서\n",
      "40\n",
      "명목의 교육비용이 전가되고 있는 것으로 나타났다. 교과서는 ‘교과\n",
      "서 요금’이라는 명목으로 일정 금액을 내야하는 경우가 많으며, 교\n",
      "과서가 모든 학생에게 충분히 제공되지 않고 학년을 마치면 다음 학\n",
      "년에 교과서를 물려주어야 했다는 사례가 다수 수집되었다. 소학교\n",
      "부터 학교운영비, 꼬마계획 등의 비용을 내야했다는 진술이 꾸준히 \n",
      "수집되고 있는데, 학교시설 현대화 작업이 진행되면서 학교꾸리기 \n",
      "비용이 증가했다고 한다. 학교에서 요구하는 돈이나 물품은 교원에 \n",
      "의해 사실상 강제되고 있었는데, 비용을 내지 못하는 경우 동급생들 \n",
      "앞에서 망신을 주거나 비판하여 형편이 어려운 학생들은 학교를 그\n",
      "만두는 선택을 하는 경우가 많다고 한다. 또한 도시와 농촌 간 교육\n",
      "환경의 차이가 크며 대학입학에서 출신성분에 의한 차별이 있고, 교\n",
      "육기회의 제공에도 경제력이 영향을 미치고 있어 성분·지역·경제\n",
      "력에 따른 차별이 존재하는 것으로 나타났다. 교육환경도 열악한데, \n",
      "학교시설의 현대화 작업에도 불구하고 양호실, 도서관, 위생시설이 \n",
      "없는 학교도 많은 것으로 보인다. 교원에 대한 경제적 보상도 적절\n",
      "히 이루어지지 않아, 교원들은 생계를 유지하기 위해 잘사는 학부모\n",
      "의 원조를 받거나 자신의 텃밭에 학생을 동원시키고 있어 학생들은 \n",
      "제대로 된 교육여건을 보장받지 못하고 있는 것으로 나타났다. 또\n",
      "한, 일반교육보다 정치사상교육을 앞세우고 있으며 교과과정에 실\n",
      "탄사격을 하는 군사훈련을 편성하여 학생들을 의무적으로 참석하게 \n",
      "하고 있다.\n",
      "북한의 사회보장 제도로는 연로연금, 노동능력상실 연금, 유가족 \n",
      "연금 등 생계가 결핍된 경우 기초적인 생계를 보장하기 위한 연금제\n",
      "도가 있으며, 사회보험금의 성격을 지닌 보조금 제도가 있다. 연로' metadata={'producer': 'Adobe PDF Library 10.0.1', 'creator': 'Adobe InDesign CS6 (Windows)', 'creationdate': '2023-07-31T13:50:27+09:00', 'moddate': '2023-07-31T13:57:54+09:00', 'trapped': '/False', 'source': '2023_북한인권보고서.pdf', 'total_pages': 448, 'page': 41, 'page_label': '42'}\n",
      "--------------------\n",
      "page_content='309\t\t북한의\t학제는\t2012년\t전반적\t의무교육(유치원\t1년,\t소학교\t5년,\t초급중학교\t3년,\t고급중학교\t3년)으로\t\n",
      "개편되었는데,\t학제개편\t이전에는\t초급중학교와\t고급중학교를\t통합하여\t중학교\t6년\t과정(1972년~2011\n",
      "년)으로\t운영하였고,\t중학교\t또는\t고등중학교라고\t칭하였다.(통일부\t국립통일교육원,\t『북한의\t이해』,\t\n",
      "2022)' metadata={'producer': 'Adobe PDF Library 10.0.1', 'creator': 'Adobe InDesign CS6 (Windows)', 'creationdate': '2023-07-31T13:50:27+09:00', 'moddate': '2023-07-31T13:57:54+09:00', 'trapped': '/False', 'source': '2023_북한인권보고서.pdf', 'total_pages': 448, 'page': 283, 'page_label': '284'}\n",
      "--------------------\n",
      "page_content='2023 북한인권보고서\n",
      "184\n",
      "데, 당국이 실시하는 반종교 교육을 통해 기독교를 접한 경우였다. 기\n",
      "독교 관련 북한당국의 반종교 교육은 학교 교과과정에서 뿐만 아니\n",
      "라 졸업 후 조직생활을 통해서도 이루어지고 있었다. 수집된 증언에 \n",
      "따르면 북한에서 반종교 교육을 받고 종교에 대한 부정적 인식이 증\n",
      "가했다고 한다. 기독교를 믿는 사람을 반동분자로 인식하고 있었다\n",
      "는 증언들도 있었다. 한 증언자는 2015년에 계급교양관을 1달에 1번\n",
      "씩 참관해야 했는데, 거기서 ‘종교는 침략자들이 북한에 가져온 것으\n",
      "로 그들이 성경도 가져왔다’는 내용이 포함된 반종교 교육을 받았다\n",
      "고 한다. 기독교인들은 제국주의적 침략의 앞잡이이므로 반민족적·\n",
      "반혁명적 적대계층이라는 내용도 있었다고 한다. 다른 증언자는 교육\n",
      "기관, 사회기관, 법기관에서 ‘종교는 허황된 것이고 거짓’이며 선교사\n",
      "는 악한 자라고 세뇌가 될 정도로 지속적으로 교육하기 때문에 감히 \n",
      "종교에 관심을 가질 생각도 하지 못했고 ‘선교사’라는 단어를 들으면 \n",
      "지금도 무섭다고 한다. 인민반 강연 등에서 기독교를 믿는 사람은 반\n",
      "동분자라고 하면서 이들을 보면 신고하라고 했다는 증언도 있었다. \n",
      "“주민들을 모아 놓고 교양하는 때가 있었는데, 그 때 처음 ‘성경책 \n",
      "사진, 예배하는 모습의 사진’을 본 적이 있습니다. 반동조직이라고 \n",
      "교육하면서 성경에는 미신에 관한 것이 적혀있어 이것을 읽게 되면 \n",
      "사상이 변질되니 이런 책을 주변에서 보게 되면 신고하라고 했습니\n",
      "다. 이들은 국가 반역자로 이 땅에서 사라져야 한다고 선전했습니\n",
      "다. 그래서 재북시 저 뿐만이 아니라 북한 주민들은 성경책이 북한 \n",
      "제도에 대해 안 좋게 적어놓은 책으로 알고 있었고 이를 소지하면 \n",
      "죽임을 당한다고 알고 있었습니다. ”\n",
      "북한에서 기독교를 탄압하는 이유는 기독교의 유일신 사상이 수\n",
      "령 우상화 정책과 주체사상에 반하기 때문이라고 한다. 한 증언자는' metadata={'producer': 'Adobe PDF Library 10.0.1', 'creator': 'Adobe InDesign CS6 (Windows)', 'creationdate': '2023-07-31T13:50:27+09:00', 'moddate': '2023-07-31T13:57:54+09:00', 'trapped': '/False', 'source': '2023_북한인권보고서.pdf', 'total_pages': 448, 'page': 185, 'page_label': '186'}\n",
      "--------------------\n",
      "page_content='2023 북한인권보고서\n",
      "342\n",
      "2018년에 학교에서 추천하여 소년궁전 스키부에 선발되었으나, 체\n",
      "육종합지도원이 자신의 출신성분이 좋지 않다는 이유로 선발명단에\n",
      "서 자신을 제외했다고 진술하였다. 정치범수용소에서는 이주민 자\n",
      "녀의 경우 정규교육과정을 받지 못한다는 증언도 있었다. 정치범수\n",
      "용소에도 소학교와 중학교가 있지만 일반 학교와는 달리 학생들이 \n",
      "책가방 대신 지게를 지고 출석하고 학교에서 농사짓는 법에 대해 배\n",
      "운다고 한다. \n",
      "북한에서는 대학 진학 시에도 출신성분에 따른 차별이 존재하는 \n",
      "것으로 나타났다. 한 증언자는 2019년에 고급중학교를 졸업하고 대\n",
      "학에 진학하려고 했는데, 본인 문건에 어머니가 행방불명으로 되어 \n",
      "있어 출신성분이 나쁘다는 이유로 대학에 진학할 수 없었다고 한다. \n",
      "이러한 차별행위는 교육부의 정책에 따른 것이라고 한다. 다른 증\n",
      "언자는 2018년에 의학대학에 진학하고 싶었는데, 교육과장과 면담\n",
      "하는 과정에서 ‘어머니가 행방불명이라 너 같은 아이는 대학에 가기 \n",
      "어렵다.’는 이야기를 듣고 대학 진학을 포기했다고 한다. 중학교 졸\n",
      "업 후 농민의 자식이라는 이유로 일반 대학뿐만 아니라 공업전문학\n",
      "교도 진학할 수 없었다는 증언도 있었다. \n",
      " \n",
      "(2) 경제력에 따른 차별 \n",
      "북한에서는 교육기회에 있어 경제력에 따른 차별이 존재하는 것\n",
      "으로 보인다. 수집된 증언에 따르면 무상교육제가 유명무실해진 상\n",
      "황에서 교육비 부담으로 경제적 취약계층의 아동들이 장기간 결석하\n",
      "거나 중도에 학교를 그만두는 것으로 나타났다. 한 증언자는 2018년\n",
      "에 아들이 소학교 학생이었는데, 당시 학급 정원의 25% 정도가 경제' metadata={'producer': 'Adobe PDF Library 10.0.1', 'creator': 'Adobe InDesign CS6 (Windows)', 'creationdate': '2023-07-31T13:50:27+09:00', 'moddate': '2023-07-31T13:57:54+09:00', 'trapped': '/False', 'source': '2023_북한인권보고서.pdf', 'total_pages': 448, 'page': 343, 'page_label': '344'}\n",
      "--------------------\n"
     ]
    }
   ],
   "source": [
    "question = '북한의 교육 과정'\n",
    "docs = new_db_faiss.similarity_search(question)\n",
    "\n",
    "for doc in docs:\n",
    "  print(doc)\n",
    "  print('--' * 10)"
   ]
  },
  {
   "cell_type": "code",
   "execution_count": null,
   "metadata": {},
   "outputs": [],
   "source": []
  },
  {
   "cell_type": "markdown",
   "metadata": {},
   "source": [
    "## vector similarity"
   ]
  },
  {
   "cell_type": "code",
   "execution_count": 17,
   "metadata": {},
   "outputs": [
    {
     "name": "stdout",
     "output_type": "stream",
     "text": [
      "벡터1과 벡터2의 유사도 : 0.6666666666666667\n",
      "벡터1과 벡터3의 유사도 : 0.6666666666666667\n",
      "벡터2와 벡터3의 유사도 : 1.0000000000000002\n"
     ]
    }
   ],
   "source": [
    "import numpy as np\n",
    "from numpy import dot\n",
    "from numpy.linalg import norm\n",
    "\n",
    "def cos_sim(A, B):\n",
    "  return dot(A, B)/(norm(A)*norm(B))\n",
    "\n",
    "vec1 = np.array([0,1,1,1])\n",
    "vec2 = np.array([1,0,1,1])\n",
    "vec3 = np.array([2,0,2,2])\n",
    "\n",
    "print('벡터1과 벡터2의 유사도 :',cos_sim(vec1, vec2))\n",
    "print('벡터1과 벡터3의 유사도 :',cos_sim(vec1, vec3))\n",
    "print('벡터2와 벡터3의 유사도 :',cos_sim(vec2, vec3))\n",
    "     "
   ]
  },
  {
   "cell_type": "code",
   "execution_count": null,
   "metadata": {},
   "outputs": [],
   "source": []
  }
 ],
 "metadata": {
  "colab": {
   "provenance": []
  },
  "kernelspec": {
   "display_name": "Python 3 (ipykernel)",
   "language": "python",
   "name": "python3"
  },
  "language_info": {
   "codemirror_mode": {
    "name": "ipython",
    "version": 3
   },
   "file_extension": ".py",
   "mimetype": "text/x-python",
   "name": "python",
   "nbconvert_exporter": "python",
   "pygments_lexer": "ipython3",
   "version": "3.11.8"
  }
 },
 "nbformat": 4,
 "nbformat_minor": 4
}
