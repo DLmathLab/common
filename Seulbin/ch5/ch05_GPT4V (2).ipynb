{
  "nbformat": 4,
  "nbformat_minor": 0,
  "metadata": {
    "colab": {
      "provenance": [],
      "gpuType": "T4"
    },
    "kernelspec": {
      "name": "python3",
      "display_name": "Python 3"
    },
    "language_info": {
      "name": "python"
    },
    "accelerator": "GPU"
  },
  "cells": [
    {
      "cell_type": "code",
      "source": [
        "!pip install openai"
      ],
      "metadata": {
        "colab": {
          "base_uri": "https://localhost:8080/"
        },
        "id": "O-_fChf1rl1s",
        "outputId": "61fe49e7-7671-46f3-842f-80814975a91c"
      },
      "execution_count": 1,
      "outputs": [
        {
          "output_type": "stream",
          "name": "stdout",
          "text": [
            "Requirement already satisfied: openai in /usr/local/lib/python3.11/dist-packages (1.66.3)\n",
            "Requirement already satisfied: anyio<5,>=3.5.0 in /usr/local/lib/python3.11/dist-packages (from openai) (4.9.0)\n",
            "Requirement already satisfied: distro<2,>=1.7.0 in /usr/local/lib/python3.11/dist-packages (from openai) (1.9.0)\n",
            "Requirement already satisfied: httpx<1,>=0.23.0 in /usr/local/lib/python3.11/dist-packages (from openai) (0.28.1)\n",
            "Requirement already satisfied: jiter<1,>=0.4.0 in /usr/local/lib/python3.11/dist-packages (from openai) (0.9.0)\n",
            "Requirement already satisfied: pydantic<3,>=1.9.0 in /usr/local/lib/python3.11/dist-packages (from openai) (2.10.6)\n",
            "Requirement already satisfied: sniffio in /usr/local/lib/python3.11/dist-packages (from openai) (1.3.1)\n",
            "Requirement already satisfied: tqdm>4 in /usr/local/lib/python3.11/dist-packages (from openai) (4.67.1)\n",
            "Requirement already satisfied: typing-extensions<5,>=4.11 in /usr/local/lib/python3.11/dist-packages (from openai) (4.12.2)\n",
            "Requirement already satisfied: idna>=2.8 in /usr/local/lib/python3.11/dist-packages (from anyio<5,>=3.5.0->openai) (3.10)\n",
            "Requirement already satisfied: certifi in /usr/local/lib/python3.11/dist-packages (from httpx<1,>=0.23.0->openai) (2025.1.31)\n",
            "Requirement already satisfied: httpcore==1.* in /usr/local/lib/python3.11/dist-packages (from httpx<1,>=0.23.0->openai) (1.0.7)\n",
            "Requirement already satisfied: h11<0.15,>=0.13 in /usr/local/lib/python3.11/dist-packages (from httpcore==1.*->httpx<1,>=0.23.0->openai) (0.14.0)\n",
            "Requirement already satisfied: annotated-types>=0.6.0 in /usr/local/lib/python3.11/dist-packages (from pydantic<3,>=1.9.0->openai) (0.7.0)\n",
            "Requirement already satisfied: pydantic-core==2.27.2 in /usr/local/lib/python3.11/dist-packages (from pydantic<3,>=1.9.0->openai) (2.27.2)\n"
          ]
        }
      ]
    },
    {
      "cell_type": "code",
      "execution_count": 2,
      "metadata": {
        "id": "TsBVESeyq-Dl"
      },
      "outputs": [],
      "source": [
        "from openai import OpenAI\n",
        "\n",
        "client = OpenAI(\n",
        "    api_key = ''\n",
        ")"
      ]
    },
    {
      "cell_type": "code",
      "source": [
        "response = client.chat.completions.create(\n",
        "  model=\"gpt-4-turbo\",\n",
        "  messages=[\n",
        "    {\n",
        "      \"role\": \"user\",\n",
        "      \"content\": [\n",
        "        {\"type\": \"text\", \"text\": \"이 이미지에 대해서 알려줘\"},\n",
        "        {\n",
        "          \"type\": \"image_url\",\n",
        "          \"image_url\": {\n",
        "            \"url\": \"https://picsum.photos/600/400\",\n",
        "          },\n",
        "        },\n",
        "      ],\n",
        "    }\n",
        "  ],\n",
        "  max_tokens=300,\n",
        ")\n",
        "\n",
        "print(response.choices[0])"
      ],
      "metadata": {
        "id": "-3P-CA1B2CYA",
        "outputId": "9bd95e3d-11bc-4a2b-a517-e072ee375d4c",
        "colab": {
          "base_uri": "https://localhost:8080/"
        }
      },
      "execution_count": 4,
      "outputs": [
        {
          "output_type": "stream",
          "name": "stdout",
          "text": [
            "Choice(finish_reason='stop', index=0, logprobs=None, message=ChatCompletionMessage(content='이 사진은 굽이치는 도로와 산을 배경으로 한 아름다운 자연 풍경을 보여줍니다. 도로는 터널로 이어져 있으며, 터널의 구조는 돌로 만들어진 것처럼 보입니다. 주변의 나무와 멀리 보이는 산들이 눈에 띄며, 산의 정상 부근은 눈이 쌓여 있는 것으로 보입니다. 이와 같은 장소는 드라이브를 즐기거나 자연을 경험하기에 이상적인 위치로 보입니다. 이러한 환경은 휴식을 취하거나 사진 찍기에 매우 좋은 장소일 것입니다.', refusal=None, role='assistant', annotations=[], audio=None, function_call=None, tool_calls=None))\n"
          ]
        }
      ]
    },
    {
      "cell_type": "code",
      "source": [
        "print(response.choices[0].message.content)"
      ],
      "metadata": {
        "colab": {
          "base_uri": "https://localhost:8080/"
        },
        "id": "weQymNqDrnE9",
        "outputId": "4347a6a9-644b-408a-f431-240af39f48d3"
      },
      "execution_count": 5,
      "outputs": [
        {
          "output_type": "stream",
          "name": "stdout",
          "text": [
            "이 사진은 굽이치는 도로와 산을 배경으로 한 아름다운 자연 풍경을 보여줍니다. 도로는 터널로 이어져 있으며, 터널의 구조는 돌로 만들어진 것처럼 보입니다. 주변의 나무와 멀리 보이는 산들이 눈에 띄며, 산의 정상 부근은 눈이 쌓여 있는 것으로 보입니다. 이와 같은 장소는 드라이브를 즐기거나 자연을 경험하기에 이상적인 위치로 보입니다. 이러한 환경은 휴식을 취하거나 사진 찍기에 매우 좋은 장소일 것입니다.\n"
          ]
        }
      ]
    },
    {
      "cell_type": "code",
      "source": [
        "response = client.chat.completions.create(\n",
        "  model=\"gpt-4-turbo\",\n",
        "  messages=[\n",
        "    {\n",
        "      \"role\": \"user\",\n",
        "      \"content\": [\n",
        "        {\"type\": \"text\", \"text\": \"이 이미지에 대해서 알려줘\"},\n",
        "        {\n",
        "          \"type\": \"image_url\",\n",
        "          \"image_url\": {\n",
        "            \"url\": \"https://loremflickr.com/600/400\",\n",
        "          },\n",
        "        },\n",
        "      ],\n",
        "    }\n",
        "  ],\n",
        "  max_tokens=300,\n",
        ")\n",
        "\n",
        "print(response.choices[0])"
      ],
      "metadata": {
        "colab": {
          "base_uri": "https://localhost:8080/"
        },
        "id": "2UFC9fAHau5R",
        "outputId": "a0d78e36-f694-4e58-dfbc-ba7167b8bf0c"
      },
      "execution_count": 6,
      "outputs": [
        {
          "output_type": "stream",
          "name": "stdout",
          "text": [
            "Choice(finish_reason='length', index=0, logprobs=None, message=ChatCompletionMessage(content='이 이미지에는 도로 변에 누워있는 독특한 모습의 조각상이 나와 있습니다. 이 조각상은 고양이를 형상화한 것으로 보이며, 편안하게 등을 기대고 앉아 있는 모습이 인상적입니다. 주변에는 자동차가 주차되어 있고, 거리의 모습이 나타나 있어 도시 환경 속에 위치한 듯 보입니다. 또한, 배경에는 건물과 가로등이 보이며, 오른쪽에 보이는 꽃이 약간의 자연스러움을 더해줍니다.\\n\\n이 스타일의 조각은 보통 사람들에게 재미나 휴식을 줄 수 있는 도시 예술의 한 형태로 볼 수 있으며, 지나가는 사람들에게 작은 미소를 유발할 수 있습니다. 이러한 공공 예술 작품은 도심 속 일상생활에 조금', refusal=None, role='assistant', annotations=[], audio=None, function_call=None, tool_calls=None))\n"
          ]
        }
      ]
    },
    {
      "cell_type": "code",
      "source": [
        "print(response.choices[0].message.content)"
      ],
      "metadata": {
        "colab": {
          "base_uri": "https://localhost:8080/"
        },
        "id": "SsmXASd6aymP",
        "outputId": "6087e3d4-b466-4777-b10b-1fe42d0209e0"
      },
      "execution_count": 7,
      "outputs": [
        {
          "output_type": "stream",
          "name": "stdout",
          "text": [
            "이 이미지에는 도로 변에 누워있는 독특한 모습의 조각상이 나와 있습니다. 이 조각상은 고양이를 형상화한 것으로 보이며, 편안하게 등을 기대고 앉아 있는 모습이 인상적입니다. 주변에는 자동차가 주차되어 있고, 거리의 모습이 나타나 있어 도시 환경 속에 위치한 듯 보입니다. 또한, 배경에는 건물과 가로등이 보이며, 오른쪽에 보이는 꽃이 약간의 자연스러움을 더해줍니다.\n",
            "\n",
            "이 스타일의 조각은 보통 사람들에게 재미나 휴식을 줄 수 있는 도시 예술의 한 형태로 볼 수 있으며, 지나가는 사람들에게 작은 미소를 유발할 수 있습니다. 이러한 공공 예술 작품은 도심 속 일상생활에 조금\n"
          ]
        }
      ]
    }
  ]
}