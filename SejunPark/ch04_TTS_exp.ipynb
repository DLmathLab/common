{
 "cells": [
  {
   "cell_type": "code",
   "execution_count": 9,
   "id": "97bf02d5-9dce-4ebf-ba29-1416cf07d7a9",
   "metadata": {},
   "outputs": [],
   "source": [
    "from openai\timport OpenAI\n",
    "\n",
    "OPENAI_API_KEY=open(\"./api_key.txt\", \"r\").readline()\n",
    "\n",
    "# API 키 입력\n",
    "client = OpenAI(api_key=OPENAI_API_KEY)\n",
    "# 생성할 파일명\n",
    "speech_file_path = \"speech.mp3\"\n",
    "\n",
    "with client.audio.speech.with_streaming_response.create(\n",
    "    model=\"tts-1\",\n",
    "    voice=\"alloy\",\n",
    "    input=\"\"\"오늘은 사람들이 좋아하는 것을 만들기에 좋은 날입니다!\"\"\",\n",
    ") as response:\n",
    "    response.stream_to_file(\"speech.mp3\")"
   ]
  },
  {
   "cell_type": "code",
   "execution_count": null,
   "id": "ca182008",
   "metadata": {},
   "outputs": [],
   "source": []
  }
 ],
 "metadata": {
  "kernelspec": {
   "display_name": "Python 3",
   "language": "python",
   "name": "python3"
  },
  "language_info": {
   "codemirror_mode": {
    "name": "ipython",
    "version": 3
   },
   "file_extension": ".py",
   "mimetype": "text/x-python",
   "name": "python",
   "nbconvert_exporter": "python",
   "pygments_lexer": "ipython3",
   "version": "3.11.8"
  }
 },
 "nbformat": 4,
 "nbformat_minor": 5
}
